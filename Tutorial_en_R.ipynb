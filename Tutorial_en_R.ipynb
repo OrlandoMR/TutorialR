{
  "nbformat": 4,
  "nbformat_minor": 0,
  "metadata": {
    "colab": {
      "name": "Tutorial en R.ipynb",
      "provenance": [],
      "include_colab_link": true
    },
    "kernelspec": {
      "name": "ir",
      "display_name": "R"
    }
  },
  "cells": [
    {
      "cell_type": "markdown",
      "metadata": {
        "id": "view-in-github",
        "colab_type": "text"
      },
      "source": [
        "<a href=\"https://colab.research.google.com/github/OrlandoMR/TutorialR/blob/master/Tutorial_en_R.ipynb\" target=\"_parent\"><img src=\"https://colab.research.google.com/assets/colab-badge.svg\" alt=\"Open In Colab\"/></a>"
      ]
    },
    {
      "cell_type": "markdown",
      "metadata": {
        "id": "xGqNHbW6LAYv"
      },
      "source": [
        "<h1>Tutorial de R</h1>\n"
      ]
    },
    {
      "cell_type": "markdown",
      "metadata": {
        "id": "4Oi8NtJyLEVe"
      },
      "source": [
        "<h2>Integrantes:</h2>\n",
        "Orlando Alberto Moncada Rodriguez - 2170133 <br/>\n",
        "Juan Felipe Ortiz Trillos - 2170105<br/>\n",
        "Andres Felipe Uribe Garcia - 2160793<br/><br/><br/>"
      ]
    },
    {
      "cell_type": "markdown",
      "metadata": {
        "id": "VG1I6WV-LIhd"
      },
      "source": [
        "<h2>Historia de R</h2>\n",
        "\n",
        "\n",
        "R tiene sus orígenes en S, un lenguaje de programación creado en los Laboratorios Bell de Estados Unidos. Sí, los mismos laboratorios que inventaron el transistor, el láser, el sistema operativo Unix y algunas otras cosas más.<br></br>\n",
        "R es un lenguaje relativamente joven pero que ha experimentado un crecimiento acelerado en su adopción durante los últimos 10 años. <br></br>\n",
        "En septiembre de 2017, de acuerdo al TIOBE programming community index (2017), que es uno de los índices de más prestigio en el mundo en relación popularidad en el uso de lenguajes de programación, R era el lenguaje número 11 en popularidad, después de haber sido el lenguaje número 18 en el 2016. Esto es sobresaliente si consideramos que R es un lenguaje dedicado únicamente a la estadística, mientras que lenguajes como Python (número 5 en 2017) o Java (número 1) son lenguajes que pueden ser usados para todo tipo de tareas, desde crear sitios web hasta programar robots. <br></br>\n",
        "\n",
        "\n",
        "---"
      ]
    },
    {
      "cell_type": "markdown",
      "metadata": {
        "id": "0_BXRIu8LNEd"
      },
      "source": [
        "<h2>Estructuras de control</h2>\n",
        "\n",
        "Como su nombre lo indica, las estructuras de control nos permiten controlar la manera en que se ejecuta nuestro código.\n",
        "\n",
        "Las estructuras de control establecen condicionales en nuestros código. Por ejemplo, qué condiciones deben cumplirse para realizar una operación o qué debe ocurrir para ejecutar una función.\n",
        "\n",
        "Esto es de gran utilidad para determinar la lógica y el orden en que ocurren las operaciones, en especial al definir funciones.\n",
        "\n",
        "Las estructuras de control más usadas en R son las siguientes:"
      ]
    },
    {
      "cell_type": "markdown",
      "metadata": {
        "id": "yzqVQ7hALQ9t"
      },
      "source": [
        "\n",
        "*   <h2>if, else</h2>\n",
        "\n",
        "El modelo para un if es\n",
        "\n",
        "```\n",
        "if(Condición) {\n",
        "  operaciones_si_la_condición_es_TRUE\n",
        "}\n",
        "```\n",
        "\n",
        "Si la condición se cumple, es decir, es verdadera (TRUE), entonces se realizan las operaciones. En caso contrario, no ocurre nada y el código con las operaciones no es ejecutado. Se pueden quitar los corchetes e igualmente ejecuta el *if*\n",
        "\n",
        "Por ejemplo, le pedimos a R que nos muestre el texto “Verdadero” si la condición se cumple"
      ]
    },
    {
      "cell_type": "code",
      "metadata": {
        "id": "EkjzgR7ILV1c",
        "outputId": "1a011a89-3c60-4fbe-c79e-09fcf2ac36c2",
        "colab": {
          "base_uri": "https://localhost:8080/",
          "height": 34
        }
      },
      "source": [
        "\n",
        "if( 4 > 3)\n",
        "    \"Verdadero\""
      ],
      "execution_count": null,
      "outputs": [
        {
          "output_type": "display_data",
          "data": {
            "text/plain": [
              "[1] \"Verdadero\""
            ],
            "text/latex": "'Verdadero'",
            "text/markdown": "'Verdadero'",
            "text/html": [
              "'Verdadero'"
            ]
          },
          "metadata": {
            "tags": []
          }
        }
      ]
    },
    {
      "cell_type": "markdown",
      "metadata": {
        "id": "fT2dsK3tLWLE"
      },
      "source": [
        "***else*** complementa un ***if***, pues indica qué ocurrirá cuando la condición no se cumple, es falsa (FALSE), en lugar de no hacer nada."
      ]
    },
    {
      "cell_type": "code",
      "metadata": {
        "id": "9P0ad9KTLW3E",
        "outputId": "2b398fd1-6b61-4e36-b8c1-1c044cf377f0",
        "colab": {
          "base_uri": "https://localhost:8080/",
          "height": 34
        }
      },
      "source": [
        "# No se cumple la condición y se muestra \"Falso\"\n",
        "if(4 > 5) \n",
        "{\n",
        "  \"Verdadero\"\n",
        "} else {\n",
        "    \"Falso\"\n",
        "  }"
      ],
      "execution_count": null,
      "outputs": [
        {
          "output_type": "display_data",
          "data": {
            "text/plain": [
              "[1] \"Falso\""
            ],
            "text/latex": "'Falso'",
            "text/markdown": "'Falso'",
            "text/html": [
              "'Falso'"
            ]
          },
          "metadata": {
            "tags": []
          }
        }
      ]
    }
  ]
}