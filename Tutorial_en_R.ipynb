{
  "nbformat": 4,
  "nbformat_minor": 0,
  "metadata": {
    "colab": {
      "name": "Tutorial en R.ipynb",
      "provenance": [],
      "include_colab_link": true
    },
    "kernelspec": {
      "name": "ir",
      "display_name": "R"
    }
  },
  "cells": [
    {
      "cell_type": "markdown",
      "metadata": {
        "id": "view-in-github",
        "colab_type": "text"
      },
      "source": [
        "<a href=\"https://colab.research.google.com/github/OrlandoMR/TutorialR/blob/master/Tutorial_en_R.ipynb\" target=\"_parent\"><img src=\"https://colab.research.google.com/assets/colab-badge.svg\" alt=\"Open In Colab\"/></a>"
      ]
    },
    {
      "cell_type": "markdown",
      "metadata": {
        "id": "xGqNHbW6LAYv"
      },
      "source": [
        "<h1>Tutorial de R</h1>\n"
      ]
    },
    {
      "cell_type": "markdown",
      "metadata": {
        "id": "4Oi8NtJyLEVe"
      },
      "source": [
        "<h2>Integrantes:</h2>\n",
        "Orlando Alberto Moncada Rodriguez - 2170133 <br/>\n",
        "Juan Felipe Ortiz Trillos - 2170105<br/>\n",
        "Andres Felipe Uribe Garcia - 2160793<br/><br/><br/>"
      ]
    },
    {
      "cell_type": "markdown",
      "metadata": {
        "id": "VG1I6WV-LIhd"
      },
      "source": [
        "<h2>Historia de R</h2>\n",
        "\n",
        "\n",
        "R tiene sus orígenes en S, un lenguaje de programación creado en los Laboratorios Bell de Estados Unidos. Sí, los mismos laboratorios que inventaron el transistor, el láser, el sistema operativo Unix y algunas otras cosas más.<br></br>\n",
        "R es un lenguaje relativamente joven pero que ha experimentado un crecimiento acelerado en su adopción durante los últimos 10 años. <br></br>\n",
        "En septiembre de 2017, de acuerdo al TIOBE programming community index (2017), que es uno de los índices de más prestigio en el mundo en relación popularidad en el uso de lenguajes de programación, R era el lenguaje número 11 en popularidad, después de haber sido el lenguaje número 18 en el 2016. Esto es sobresaliente si consideramos que R es un lenguaje dedicado únicamente a la estadística, mientras que lenguajes como Python (número 5 en 2017) o Java (número 1) son lenguajes que pueden ser usados para todo tipo de tareas, desde crear sitios web hasta programar robots. <br></br>\n",
        "\n",
        "\n",
        "---"
      ]
    },
    {
      "cell_type": "markdown",
      "metadata": {
        "id": "0_BXRIu8LNEd"
      },
      "source": [
        "<h2>Estructuras de control</h2>\n",
        "\n",
        "Como su nombre lo indica, las estructuras de control nos permiten controlar la manera en que se ejecuta nuestro código.\n",
        "\n",
        "Las estructuras de control establecen condicionales en nuestros código. Por ejemplo, qué condiciones deben cumplirse para realizar una operación o qué debe ocurrir para ejecutar una función.\n",
        "\n",
        "Esto es de gran utilidad para determinar la lógica y el orden en que ocurren las operaciones, en especial al definir funciones.\n",
        "\n",
        "Las estructuras de control más usadas en R son las siguientes:"
      ]
    },
    {
      "cell_type": "markdown",
      "metadata": {
        "id": "yzqVQ7hALQ9t"
      },
      "source": [
        "\n",
        "*   <h2>if, else</h2>\n",
        "\n",
        "El modelo para un if es\n",
        "\n",
        "```\n",
        "if(Condición) {\n",
        "  operaciones_si_la_condición_es_TRUE\n",
        "}\n",
        "```\n",
        "\n",
        "Si la condición se cumple, es decir, es verdadera (TRUE), entonces se realizan las operaciones. En caso contrario, no ocurre nada y el código con las operaciones no es ejecutado. Se pueden quitar los corchetes e igualmente ejecuta el *if*\n",
        "\n",
        "Por ejemplo, le pedimos a R que nos muestre el texto “Verdadero” si la condición se cumple"
      ]
    },
    {
      "cell_type": "code",
      "metadata": {
        "id": "EkjzgR7ILV1c",
        "outputId": "1a011a89-3c60-4fbe-c79e-09fcf2ac36c2",
        "colab": {
          "base_uri": "https://localhost:8080/",
          "height": 34
        }
      },
      "source": [
        "\n",
        "if( 4 > 3)\n",
        "    \"Verdadero\""
      ],
      "execution_count": null,
      "outputs": [
        {
          "output_type": "display_data",
          "data": {
            "text/plain": [
              "[1] \"Verdadero\""
            ],
            "text/latex": "'Verdadero'",
            "text/markdown": "'Verdadero'",
            "text/html": [
              "'Verdadero'"
            ]
          },
          "metadata": {
            "tags": []
          }
        }
      ]
    },
    {
      "cell_type": "markdown",
      "metadata": {
        "id": "fT2dsK3tLWLE"
      },
      "source": [
        "***else*** complementa un ***if***, pues indica qué ocurrirá cuando la condición no se cumple, es falsa (FALSE), en lugar de no hacer nada."
      ]
    },
    {
      "cell_type": "code",
      "metadata": {
        "id": "9P0ad9KTLW3E",
        "outputId": "2b398fd1-6b61-4e36-b8c1-1c044cf377f0",
        "colab": {
          "base_uri": "https://localhost:8080/",
          "height": 34
        }
      },
      "source": [
        "# No se cumple la condición y se muestra \"Falso\"\n",
        "if(4 > 5) \n",
        "{\n",
        "  \"Verdadero\"\n",
        "} else {\n",
        "    \"Falso\"\n",
        "  }"
      ],
      "execution_count": null,
      "outputs": [
        {
          "output_type": "display_data",
          "data": {
            "text/plain": [
              "[1] \"Falso\""
            ],
            "text/latex": "'Falso'",
            "text/markdown": "'Falso'",
            "text/html": [
              "'Falso'"
            ]
          },
          "metadata": {
            "tags": []
          }
        }
      ]
    },
    {
      "cell_type": "markdown",
      "metadata": {
        "id": "phgyGhMXdZ2j"
      },
      "source": [
        "La función ***ifelse( )*** nos permite vectorizar if, else. En lugar de escribir una línea de código para cada comparación, podemos usar una sola llamada a esta función, que se aplicará a todos los elementos de un vector.</br>\n",
        "\n",
        "Por ejemplo, pedimos sólo los números que son exactamente divisibles entre 2 y 3."
      ]
    },
    {
      "cell_type": "code",
      "metadata": {
        "id": "dRET9W6FdeZb"
      },
      "source": [
        "num <- 1:20\n",
        "\n",
        "ifelse(num %% 2 == 0 & num %% 3 == 0, \"Divisible\", \"No divisible\")"
      ],
      "execution_count": null,
      "outputs": []
    },
    {
      "cell_type": "markdown",
      "metadata": {
        "id": "W1msvmNRdgUC"
      },
      "source": [
        "</br> \n",
        "\n",
        "*   <h2>for</h2>\n",
        "\n",
        "La estructura for nos permite ejecutar un bucle (loop), realizando una operación para cada elemento de un conjunto de datos.\n",
        "\n",
        "Su estructura es la siguiente:\n",
        "\n",
        "```\n",
        "for(elemento in objeto) {\n",
        "  operacion_con_elemento\n",
        "}\n",
        "```"
      ]
    },
    {
      "cell_type": "markdown",
      "metadata": {
        "id": "LiOG2rtFdhWM"
      },
      "source": [
        "usar **print()** sólo mostrará los resultados de las operaciones en la consola, no los asignará a un objeto.\n",
        "\n",
        "Si deseamos asignar los resultados de un bucle **for** a un objeto, usamos índices.\n",
        "\n",
        "Aprovechamos que el primer elemento en un bucle siempre es identificado con el número 1 y que continuará realizando operaciones hasta llegar al total de elementos que hemos especificado."
      ]
    },
    {
      "cell_type": "code",
      "metadata": {
        "id": "wx7PapTMdtds",
        "outputId": "3f9f2785-f9ea-4640-9864-8c573505a05f",
        "colab": {
          "base_uri": "https://localhost:8080/"
        }
      },
      "source": [
        "for(numero in 1:10) {\n",
        "  print(numero)\n",
        "}"
      ],
      "execution_count": 1,
      "outputs": [
        {
          "output_type": "stream",
          "text": [
            "[1] 1\n",
            "[1] 2\n",
            "[1] 3\n",
            "[1] 4\n",
            "[1] 5\n",
            "[1] 6\n",
            "[1] 7\n",
            "[1] 8\n",
            "[1] 9\n",
            "[1] 10\n"
          ],
          "name": "stdout"
        }
      ]
    },
    {
      "cell_type": "markdown",
      "metadata": {
        "id": "KSWu7dRoeM54"
      },
      "source": [
        "</br> \n",
        "\n",
        "*   <h2>while</h2>\n",
        "\n",
        "Este es un tipo de bucle que ocurre mientras una condición es verdadera (TRUE). La operación se realiza hasta que se se llega a cumplir un criterio previamente establecido.\n",
        "\n",
        "El modelo de while es:\n",
        "\n",
        "\n",
        "\n",
        "```\n",
        "while(condicion) {\n",
        "  operaciones\n",
        "}\n",
        "```\n"
      ]
    },
    {
      "cell_type": "code",
      "metadata": {
        "id": "mSWApdnreWOZ",
        "outputId": "64b23cd0-804f-47a0-b055-d5495af270f8",
        "colab": {
          "base_uri": "https://localhost:8080/"
        }
      },
      "source": [
        "conteo <-  0\n",
        "valor <- 0\n",
        "\n",
        "while(valor < 50) {\n",
        "  valor <- valor + sample(x = 1:10, size = 1)\n",
        "  conteo <- conteo + 1\n",
        "  print(c(\"valor: \", valor))\n",
        "}\n",
        "print(c(\"Conteo: \", conteo))"
      ],
      "execution_count": 15,
      "outputs": [
        {
          "output_type": "stream",
          "text": [
            "[1] \"valor: \" \"2\"      \n",
            "[1] \"valor: \" \"12\"     \n",
            "[1] \"valor: \" \"19\"     \n",
            "[1] \"valor: \" \"26\"     \n",
            "[1] \"valor: \" \"35\"     \n",
            "[1] \"valor: \" \"43\"     \n",
            "[1] \"valor: \" \"49\"     \n",
            "[1] \"valor: \" \"51\"     \n",
            "[1] \"Conteo: \" \"8\"       \n"
          ],
          "name": "stdout"
        }
      ]
    },
    {
      "cell_type": "markdown",
      "metadata": {
        "id": "PO25NYs7_fsB"
      },
      "source": [
        "<h1> Matrices</h1>\n",
        "\n",
        "Las matrices y arrays pueden ser descritas como vectores multidimensionales. Al igual que un vector, únicamente pueden contener datos de un sólo tipo, pero además de largo, tienen más dimensiones."
      ]
    },
    {
      "cell_type": "markdown",
      "metadata": {
        "id": "2sKu610RFrAD"
      },
      "source": [
        "Para crear una matriz requerimos la funcion ` matrix() ` la cual inicializa una matriz con un rango de datos.\n",
        "\n",
        "Por ejemplo:\n",
        "\n",
        "\n",
        "\n",
        "\n",
        "\n",
        "\n",
        "\n"
      ]
    },
    {
      "cell_type": "code",
      "metadata": {
        "id": "ZKDQf7_HMYLl",
        "outputId": "d894356f-f26e-4bca-d713-2b30310f1456",
        "colab": {
          "base_uri": "https://localhost:8080/"
        }
      },
      "source": [
        "a<-matrix(1:10)\n",
        "print(a)"
      ],
      "execution_count": null,
      "outputs": [
        {
          "output_type": "stream",
          "text": [
            "      [,1]\n",
            " [1,]    1\n",
            " [2,]    2\n",
            " [3,]    3\n",
            " [4,]    4\n",
            " [5,]    5\n",
            " [6,]    6\n",
            " [7,]    7\n",
            " [8,]    8\n",
            " [9,]    9\n",
            "[10,]   10\n"
          ],
          "name": "stdout"
        }
      ]
    },
    {
      "cell_type": "markdown",
      "metadata": {
        "id": "j1RVV4qmNO6E"
      },
      "source": [
        "Como podemos ver, es tan solo una matriz de una columna pero de 10 filas ya que debe contener valores del 1 al 10.\n",
        "\n",
        "Para cambiar la cantidad de columnas y filas agregamos 2 parametros a la funcion `matrix()` los cuales son: nrow y ncol que por logica especifican la cantidad de filas y columnas que tendra la matriz, se definen como:  `matrix(argument,nrow = int, ncol = int)` donde int es cualquier numero entero y argument es el rango de datos."
      ]
    },
    {
      "cell_type": "code",
      "metadata": {
        "id": "3J2zuyutMzrg",
        "outputId": "08f9181d-177e-452c-f50c-a62a3725ec29",
        "colab": {
          "base_uri": "https://localhost:8080/"
        }
      },
      "source": [
        "a<-matrix(1:20, nrow=5,ncol=4)\n",
        "print(a)"
      ],
      "execution_count": null,
      "outputs": [
        {
          "output_type": "stream",
          "text": [
            "     [,1] [,2] [,3] [,4]\n",
            "[1,]    1    6   11   16\n",
            "[2,]    2    7   12   17\n",
            "[3,]    3    8   13   18\n",
            "[4,]    4    9   14   19\n",
            "[5,]    5   10   15   20\n"
          ],
          "name": "stdout"
        }
      ]
    },
    {
      "cell_type": "markdown",
      "metadata": {
        "id": "ur15ZbRMWIiy"
      },
      "source": [
        "Se puede observar que el orden de los datos es de arriba hacia abajo y de izquierda hacia derecha con prioridad vertical.\n",
        "\n",
        "Tambien podemos usar otras 2 funciones llamadas `cbind()` y `rbind()` las cuales unen varios vectores en una sola matriz, se diferencian en la forma de unirse, el primero, organiza los vectores como columna y el segundo como filas."
      ]
    },
    {
      "cell_type": "code",
      "metadata": {
        "id": "kOornsvyPPwy"
      },
      "source": [
        "#Definimos los vectores\n",
        "vector1<-1:4\n",
        "vector2<-5:8\n",
        "vector3<-9:12"
      ],
      "execution_count": null,
      "outputs": []
    },
    {
      "cell_type": "code",
      "metadata": {
        "id": "BYkDfMkAbqr4",
        "outputId": "88666052-4a8f-4ca4-af46-15b410f7dea3",
        "colab": {
          "base_uri": "https://localhost:8080/"
        }
      },
      "source": [
        "a<-cbind(vector1,vector2,vector3)\n",
        "print(a)"
      ],
      "execution_count": null,
      "outputs": [
        {
          "output_type": "stream",
          "text": [
            "     vector1 vector2 vector3\n",
            "[1,]       1       5       9\n",
            "[2,]       2       6      10\n",
            "[3,]       3       7      11\n",
            "[4,]       4       8      12\n"
          ],
          "name": "stdout"
        }
      ]
    },
    {
      "cell_type": "code",
      "metadata": {
        "id": "NdsbDjs0cWiJ",
        "outputId": "e91e6fee-2d2b-4ee9-ecc0-0dad6624db1f",
        "colab": {
          "base_uri": "https://localhost:8080/"
        }
      },
      "source": [
        "b<-rbind(vector1,vector2,vector3)\n",
        "print(b)"
      ],
      "execution_count": null,
      "outputs": [
        {
          "output_type": "stream",
          "text": [
            "        [,1] [,2] [,3] [,4]\n",
            "vector1    1    2    3    4\n",
            "vector2    5    6    7    8\n",
            "vector3    9   10   11   12\n"
          ],
          "name": "stdout"
        }
      ]
    },
    {
      "cell_type": "markdown",
      "metadata": {
        "id": "9uqDEwqggWX9"
      },
      "source": [
        "Ademas existen diversas operaciones aplicables como la multiplicacion por un escalar o la transpuesta de una matriz.\n",
        "\n",
        "Primero veremos como multiplicar por un escalar para ello usaremos la matriz asignada a la variable b.\n",
        "\n",
        "A continuacion un ejemplo."
      ]
    },
    {
      "cell_type": "code",
      "metadata": {
        "id": "tGW3CUPGcZST",
        "outputId": "81715d79-11dc-43d0-e22a-f57ca463b633",
        "colab": {
          "base_uri": "https://localhost:8080/"
        }
      },
      "source": [
        "bEs<-b*2\n",
        "print(bEs)"
      ],
      "execution_count": null,
      "outputs": [
        {
          "output_type": "stream",
          "text": [
            "        [,1] [,2] [,3] [,4]\n",
            "vector1    2    4    6    8\n",
            "vector2   10   12   14   16\n",
            "vector3   18   20   22   24\n"
          ],
          "name": "stdout"
        }
      ]
    },
    {
      "cell_type": "markdown",
      "metadata": {
        "id": "XASTQpliip3U"
      },
      "source": [
        "Para transponer una matriz necesitaremos la función `t()`:"
      ]
    },
    {
      "cell_type": "code",
      "metadata": {
        "id": "qP7GIUl-hriM",
        "outputId": "8d3e0ab0-fe09-4ce3-faf8-f0b6afaf3b8e",
        "colab": {
          "base_uri": "https://localhost:8080/"
        }
      },
      "source": [
        "tras<-t(bEs)\n",
        "print(tras)"
      ],
      "execution_count": null,
      "outputs": [
        {
          "output_type": "stream",
          "text": [
            "     vector1 vector2 vector3\n",
            "[1,]       2      10      18\n",
            "[2,]       4      12      20\n",
            "[3,]       6      14      22\n",
            "[4,]       8      16      24\n"
          ],
          "name": "stdout"
        }
      ]
    },
    {
      "cell_type": "markdown",
      "metadata": {
        "id": "eI_4HFYjpd1K"
      },
      "source": [
        "<h1>Objetos</h1>"
      ]
    },
    {
      "cell_type": "markdown",
      "metadata": {
        "id": "6Xy-kyMFpiHs"
      },
      "source": [
        "En R existen varios tipos de objectos que permiten que el usuario pueda almacenar la información para realizar procedimientos estadísticos y gráficos. Los principales objetos en R son vectores, matrices, arreglos, marcos de datos y listas"
      ]
    },
    {
      "cell_type": "markdown",
      "metadata": {
        "id": "bW9B_Y9FpyrU"
      },
      "source": [
        "<h3>Vectores</h3>"
      ]
    },
    {
      "cell_type": "markdown",
      "metadata": {
        "id": "ANU2X9N4psVn"
      },
      "source": [
        "Los vectores entran en la definicion de objeto de R ya que es una estructura en la cual se pueden guardar datos y hacer operaciones con estos."
      ]
    },
    {
      "cell_type": "code",
      "metadata": {
        "id": "k5yrCw30nugi",
        "outputId": "07514f75-07db-4ab8-d803-90dd27dfe20d",
        "colab": {
          "base_uri": "https://localhost:8080/"
        }
      },
      "source": [
        "edad<-c(20,22,24,12,NA,17)\n",
        "print(edad)\n",
        "mayor<-c(TRUE,FALSE,FALSE,TRUE,NA,TRUE)\n",
        "print(mayor)"
      ],
      "execution_count": null,
      "outputs": [
        {
          "output_type": "stream",
          "text": [
            "[1] 20 22 24 12 NA 17\n",
            "[1]  TRUE FALSE FALSE  TRUE    NA  TRUE\n"
          ],
          "name": "stdout"
        }
      ]
    },
    {
      "cell_type": "markdown",
      "metadata": {
        "id": "0CzGHNIOpyfE"
      },
      "source": [
        "<h3>Matrices</h3>"
      ]
    },
    {
      "cell_type": "markdown",
      "metadata": {
        "id": "iwOR1RpMp80Q"
      },
      "source": [
        "Las matrices al igual que los vectores son objetos 2-dimensionales para recolectar datos"
      ]
    },
    {
      "cell_type": "code",
      "metadata": {
        "id": "Fpk7MktDqLQy",
        "outputId": "9831b8bf-e17f-40f2-ffe4-0d0c4637987b",
        "colab": {
          "base_uri": "https://localhost:8080/"
        }
      },
      "source": [
        "ma<-cbind(edad,mayor)\n",
        "print(ma)"
      ],
      "execution_count": null,
      "outputs": [
        {
          "output_type": "stream",
          "text": [
            "     edad mayor\n",
            "[1,]   20     1\n",
            "[2,]   22     0\n",
            "[3,]   24     0\n",
            "[4,]   12     1\n",
            "[5,]   NA    NA\n",
            "[6,]   17     1\n"
          ],
          "name": "stdout"
        }
      ]
    },
    {
      "cell_type": "markdown",
      "metadata": {
        "id": "Gini2R8DpyNu"
      },
      "source": [
        "<h3>Arreglos</h3>"
      ]
    },
    {
      "cell_type": "markdown",
      "metadata": {
        "id": "oOyU9YAMnAt7"
      },
      "source": [
        "Un arreglo es una matriz de n-dimensiones que se define con la funcion `array()` que recibe los parametros de los datos y las dimensiones en las que se ordenan estos."
      ]
    },
    {
      "cell_type": "code",
      "metadata": {
        "id": "wV8v0PFwq-F5",
        "outputId": "0f823446-0cc1-4a29-e1b1-cfe9e249d6e8",
        "colab": {
          "base_uri": "https://localhost:8080/"
        }
      },
      "source": [
        "#Definimos el array\n",
        "ar<-array(data=1:24,dim=c(3,4,2))\n",
        "print(ar)"
      ],
      "execution_count": null,
      "outputs": [
        {
          "output_type": "stream",
          "text": [
            ", , 1\n",
            "\n",
            "     [,1] [,2] [,3] [,4]\n",
            "[1,]    1    4    7   10\n",
            "[2,]    2    5    8   11\n",
            "[3,]    3    6    9   12\n",
            "\n",
            ", , 2\n",
            "\n",
            "     [,1] [,2] [,3] [,4]\n",
            "[1,]   13   16   19   22\n",
            "[2,]   14   17   20   23\n",
            "[3,]   15   18   21   24\n",
            "\n"
          ],
          "name": "stdout"
        }
      ]
    },
    {
      "cell_type": "markdown",
      "metadata": {
        "id": "mvBbWPZCrZpE"
      },
      "source": [
        "Para acceder a algun valor de este array solo debemos tener en cuenta el orden de acceso, primero fila, luego columna y por ultimo el bloque"
      ]
    },
    {
      "cell_type": "code",
      "metadata": {
        "id": "ifOEYQHxr6MP",
        "outputId": "c8e4b1bd-e534-4d15-a93b-b249b180b923",
        "colab": {
          "base_uri": "https://localhost:8080/",
          "height": 34
        }
      },
      "source": [
        "ar[2,3,1]"
      ],
      "execution_count": null,
      "outputs": [
        {
          "output_type": "display_data",
          "data": {
            "text/plain": [
              "[1] 8"
            ],
            "text/latex": "8",
            "text/markdown": "8",
            "text/html": [
              "8"
            ]
          },
          "metadata": {
            "tags": []
          }
        }
      ]
    },
    {
      "cell_type": "markdown",
      "metadata": {
        "id": "-ctBY7G2px7g"
      },
      "source": [
        "<h3>Marcos de datos</h3>"
      ]
    },
    {
      "cell_type": "markdown",
      "metadata": {
        "id": "pI3yCx3snBID"
      },
      "source": [
        "Marco de datos o data frame es el mas usado ya que permite almacenar o agrupar vectores con informacion de diferente tipo. La funcion para crearlo es `data.frame()` a la cual se le agregan los vectores."
      ]
    },
    {
      "cell_type": "code",
      "metadata": {
        "id": "SbAXBifKsjMt",
        "outputId": "2a717fc8-ba2e-4676-95e2-b6d1d7571f9b",
        "colab": {
          "base_uri": "https://localhost:8080/"
        }
      },
      "source": [
        "num<-c(13,25,16,17,18)\n",
        "letras<-c(\"A\",\"B\",\"C\",\"D\",\"E\")\n",
        "logica<-c(TRUE,FALSE,TRUE,FALSE,TRUE)\n",
        "\n",
        "marco<-data.frame(num,letras,logica)\n",
        "print(marco)"
      ],
      "execution_count": null,
      "outputs": [
        {
          "output_type": "stream",
          "text": [
            "  num letras logica\n",
            "1  13      A   TRUE\n",
            "2  25      B  FALSE\n",
            "3  16      C   TRUE\n",
            "4  17      D  FALSE\n",
            "5  18      E   TRUE\n"
          ],
          "name": "stdout"
        }
      ]
    },
    {
      "cell_type": "markdown",
      "metadata": {
        "id": "2Y-ircPFtSS6"
      },
      "source": [
        "Ahora bien solo requerimos la columna letras de nuestro data frame, para ello realizamos lo siguiente:"
      ]
    },
    {
      "cell_type": "code",
      "metadata": {
        "id": "8gPbCD8ktRsj",
        "outputId": "fca19284-4a3b-468f-d074-13d51369f71d",
        "colab": {
          "base_uri": "https://localhost:8080/",
          "height": 164
        }
      },
      "source": [
        "print(marco[\"letras\"])\n",
        "marco[[\"letras\"]]\n",
        "marco$letras"
      ],
      "execution_count": null,
      "outputs": [
        {
          "output_type": "stream",
          "text": [
            "  letras\n",
            "1      A\n",
            "2      B\n",
            "3      C\n",
            "4      D\n",
            "5      E\n"
          ],
          "name": "stdout"
        },
        {
          "output_type": "display_data",
          "data": {
            "text/plain": [
              "[1] \"A\" \"B\" \"C\" \"D\" \"E\""
            ],
            "text/latex": "\\begin{enumerate*}\n\\item 'A'\n\\item 'B'\n\\item 'C'\n\\item 'D'\n\\item 'E'\n\\end{enumerate*}\n",
            "text/markdown": "1. 'A'\n2. 'B'\n3. 'C'\n4. 'D'\n5. 'E'\n\n\n",
            "text/html": [
              "<style>\n",
              ".list-inline {list-style: none; margin:0; padding: 0}\n",
              ".list-inline>li {display: inline-block}\n",
              ".list-inline>li:not(:last-child)::after {content: \"\\00b7\"; padding: 0 .5ex}\n",
              "</style>\n",
              "<ol class=list-inline><li>'A'</li><li>'B'</li><li>'C'</li><li>'D'</li><li>'E'</li></ol>\n"
            ]
          },
          "metadata": {
            "tags": []
          }
        },
        {
          "output_type": "display_data",
          "data": {
            "text/plain": [
              "[1] \"A\" \"B\" \"C\" \"D\" \"E\""
            ],
            "text/latex": "\\begin{enumerate*}\n\\item 'A'\n\\item 'B'\n\\item 'C'\n\\item 'D'\n\\item 'E'\n\\end{enumerate*}\n",
            "text/markdown": "1. 'A'\n2. 'B'\n3. 'C'\n4. 'D'\n5. 'E'\n\n\n",
            "text/html": [
              "<style>\n",
              ".list-inline {list-style: none; margin:0; padding: 0}\n",
              ".list-inline>li {display: inline-block}\n",
              ".list-inline>li:not(:last-child)::after {content: \"\\00b7\"; padding: 0 .5ex}\n",
              "</style>\n",
              "<ol class=list-inline><li>'A'</li><li>'B'</li><li>'C'</li><li>'D'</li><li>'E'</li></ol>\n"
            ]
          },
          "metadata": {
            "tags": []
          }
        }
      ]
    },
    {
      "cell_type": "markdown",
      "metadata": {
        "id": "qkO4VWGAtr62"
      },
      "source": [
        "Como podemos ver las 3 opciones son validas pero la primera nos la muestra estructurada como marco y las otras nos la muestran en forma de vector."
      ]
    },
    {
      "cell_type": "markdown",
      "metadata": {
        "id": "m4cBntkLpxXR"
      },
      "source": [
        "<h3>Listas</h3>"
      ]
    },
    {
      "cell_type": "markdown",
      "metadata": {
        "id": "-iQaP8ZmnBrz"
      },
      "source": [
        "Son conjunto de datos que puede contener otros tipos de objetos como los mencionados anteriormente para ello se usa la funcion `list()` el cual recibe como parametros los objetos separados por comas."
      ]
    },
    {
      "cell_type": "code",
      "metadata": {
        "id": "Zk4oHUu6jMmh",
        "outputId": "198e1ffd-838a-4f02-d5b8-3d25013336dd",
        "colab": {
          "base_uri": "https://localhost:8080/"
        }
      },
      "source": [
        "a<-c(\"Perro\",\"Gato\",\"Conejo\")\n",
        "b<-matrix(1:12,ncol = 3,nrow=4)\n",
        "c<-marco\n",
        "lista<-list(a,b,c)\n",
        "print(lista)"
      ],
      "execution_count": null,
      "outputs": [
        {
          "output_type": "stream",
          "text": [
            "[[1]]\n",
            "[1] \"Perro\"  \"Gato\"   \"Conejo\"\n",
            "\n",
            "[[2]]\n",
            "     [,1] [,2] [,3]\n",
            "[1,]    1    5    9\n",
            "[2,]    2    6   10\n",
            "[3,]    3    7   11\n",
            "[4,]    4    8   12\n",
            "\n",
            "[[3]]\n",
            "  num letras logica\n",
            "1  13      A   TRUE\n",
            "2  25      B  FALSE\n",
            "3  16      C   TRUE\n",
            "4  17      D  FALSE\n",
            "5  18      E   TRUE\n",
            "\n"
          ],
          "name": "stdout"
        }
      ]
    },
    {
      "cell_type": "code",
      "metadata": {
        "id": "0bkWm9kDwCoI"
      },
      "source": [
        ""
      ],
      "execution_count": null,
      "outputs": []
    }
  ]
}