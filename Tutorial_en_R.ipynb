{
  "nbformat": 4,
  "nbformat_minor": 0,
  "metadata": {
    "colab": {
      "name": "Tutorial en R.ipynb",
      "provenance": [],
      "include_colab_link": true
    },
    "kernelspec": {
      "name": "ir",
      "display_name": "R"
    }
  },
  "cells": [
    {
      "cell_type": "markdown",
      "metadata": {
        "id": "view-in-github",
        "colab_type": "text"
      },
      "source": [
        "<a href=\"https://colab.research.google.com/github/OrlandoMR/TutorialR/blob/master/Tutorial_en_R.ipynb\" target=\"_parent\"><img src=\"https://colab.research.google.com/assets/colab-badge.svg\" alt=\"Open In Colab\"/></a>"
      ]
    },
    {
      "cell_type": "markdown",
      "metadata": {
        "id": "xGqNHbW6LAYv"
      },
      "source": [
        "<h1>Tutorial de R</h1>\n"
      ]
    },
    {
      "cell_type": "markdown",
      "metadata": {
        "id": "4Oi8NtJyLEVe"
      },
      "source": [
        "<h2>Integrantes:</h2>\n",
        "Orlando Alberto Moncada Rodriguez - 2170133 <br/>\n",
        "Juan Felipe Ortiz Trillos - 2170105<br/>\n",
        "Andres Felipe Uribe Garcia - 2160793<br/><br/><br/>"
      ]
    },
    {
      "cell_type": "markdown",
      "metadata": {
        "id": "VG1I6WV-LIhd"
      },
      "source": [
        "<h2>Historia de R</h2>\n",
        "\n",
        "\n",
        "R tiene sus orígenes en S, un lenguaje de programación creado en los Laboratorios Bell de Estados Unidos. Sí, los mismos laboratorios que inventaron el transistor, el láser, el sistema operativo Unix y algunas otras cosas más.<br></br>\n",
        "R es un lenguaje relativamente joven pero que ha experimentado un crecimiento acelerado en su adopción durante los últimos 10 años. <br></br>\n",
        "En septiembre de 2017, de acuerdo al TIOBE programming community index (2017), que es uno de los índices de más prestigio en el mundo en relación popularidad en el uso de lenguajes de programación, R era el lenguaje número 11 en popularidad, después de haber sido el lenguaje número 18 en el 2016. Esto es sobresaliente si consideramos que R es un lenguaje dedicado únicamente a la estadística, mientras que lenguajes como Python (número 5 en 2017) o Java (número 1) son lenguajes que pueden ser usados para todo tipo de tareas, desde crear sitios web hasta programar robots. <br></br>\n",
        "\n",
        "\n",
        "---"
      ]
    },
    {
      "cell_type": "markdown",
      "metadata": {
        "id": "0_BXRIu8LNEd"
      },
      "source": [
        "<h2>Estructuras de control</h2>\n",
        "\n",
        "Como su nombre lo indica, las estructuras de control nos permiten controlar la manera en que se ejecuta nuestro código.\n",
        "\n",
        "Las estructuras de control establecen condicionales en nuestros código. Por ejemplo, qué condiciones deben cumplirse para realizar una operación o qué debe ocurrir para ejecutar una función.\n",
        "\n",
        "Esto es de gran utilidad para determinar la lógica y el orden en que ocurren las operaciones, en especial al definir funciones.\n",
        "\n",
        "Las estructuras de control más usadas en R son las siguientes:"
      ]
    },
    {
      "cell_type": "markdown",
      "metadata": {
        "id": "yzqVQ7hALQ9t"
      },
      "source": [
        "\n",
        "*   <h2>if, else</h2>\n",
        "\n",
        "El modelo para un if es\n",
        "\n",
        "```\n",
        "if(Condición) {\n",
        "  operaciones_si_la_condición_es_TRUE\n",
        "}\n",
        "```\n",
        "\n",
        "Si la condición se cumple, es decir, es verdadera (TRUE), entonces se realizan las operaciones. En caso contrario, no ocurre nada y el código con las operaciones no es ejecutado. Se pueden quitar los corchetes e igualmente ejecuta el *if*\n",
        "\n",
        "Por ejemplo, le pedimos a R que nos muestre el texto “Verdadero” si la condición se cumple"
      ]
    },
    {
      "cell_type": "code",
      "metadata": {
        "id": "EkjzgR7ILV1c",
        "outputId": "1a011a89-3c60-4fbe-c79e-09fcf2ac36c2",
        "colab": {
          "base_uri": "https://localhost:8080/",
          "height": 34
        }
      },
      "source": [
        "\n",
        "if( 4 > 3)\n",
        "    \"Verdadero\""
      ],
      "execution_count": null,
      "outputs": [
        {
          "output_type": "display_data",
          "data": {
            "text/plain": [
              "[1] \"Verdadero\""
            ],
            "text/latex": "'Verdadero'",
            "text/markdown": "'Verdadero'",
            "text/html": [
              "'Verdadero'"
            ]
          },
          "metadata": {
            "tags": []
          }
        }
      ]
    },
    {
      "cell_type": "markdown",
      "metadata": {
        "id": "fT2dsK3tLWLE"
      },
      "source": [
        "***else*** complementa un ***if***, pues indica qué ocurrirá cuando la condición no se cumple, es falsa (FALSE), en lugar de no hacer nada."
      ]
    },
    {
      "cell_type": "code",
      "metadata": {
        "id": "9P0ad9KTLW3E",
        "outputId": "2b398fd1-6b61-4e36-b8c1-1c044cf377f0",
        "colab": {
          "base_uri": "https://localhost:8080/",
          "height": 34
        }
      },
      "source": [
        "# No se cumple la condición y se muestra \"Falso\"\n",
        "if(4 > 5) \n",
        "{\n",
        "  \"Verdadero\"\n",
        "} else {\n",
        "    \"Falso\"\n",
        "  }"
      ],
      "execution_count": null,
      "outputs": [
        {
          "output_type": "display_data",
          "data": {
            "text/plain": [
              "[1] \"Falso\""
            ],
            "text/latex": "'Falso'",
            "text/markdown": "'Falso'",
            "text/html": [
              "'Falso'"
            ]
          },
          "metadata": {
            "tags": []
          }
        }
      ]
    },
    {
      "cell_type": "markdown",
      "metadata": {
        "id": "PO25NYs7_fsB"
      },
      "source": [
        "<h1> Matrices</h1>\n",
        "\n",
        "Las matrices y arrays pueden ser descritas como vectores multidimensionales. Al igual que un vector, únicamente pueden contener datos de un sólo tipo, pero además de largo, tienen más dimensiones."
      ]
    },
    {
      "cell_type": "markdown",
      "metadata": {
        "id": "2sKu610RFrAD"
      },
      "source": [
        "Para crear una matriz requerimos la funcion ` matrix() ` la cual inicializa una matriz con un rango de datos.\n",
        "\n",
        "Por ejemplo:\n",
        "\n",
        "\n",
        "\n",
        "\n",
        "\n",
        "\n",
        "\n"
      ]
    },
    {
      "cell_type": "code",
      "metadata": {
        "id": "ZKDQf7_HMYLl",
        "outputId": "d894356f-f26e-4bca-d713-2b30310f1456",
        "colab": {
          "base_uri": "https://localhost:8080/"
        }
      },
      "source": [
        "a<-matrix(1:10)\n",
        "print(a)"
      ],
      "execution_count": 2,
      "outputs": [
        {
          "output_type": "stream",
          "text": [
            "      [,1]\n",
            " [1,]    1\n",
            " [2,]    2\n",
            " [3,]    3\n",
            " [4,]    4\n",
            " [5,]    5\n",
            " [6,]    6\n",
            " [7,]    7\n",
            " [8,]    8\n",
            " [9,]    9\n",
            "[10,]   10\n"
          ],
          "name": "stdout"
        }
      ]
    },
    {
      "cell_type": "markdown",
      "metadata": {
        "id": "j1RVV4qmNO6E"
      },
      "source": [
        "Como podemos ver, es tan solo una matriz de una columna pero de 10 filas ya que debe contener valores del 1 al 10.\n",
        "\n",
        "Para cambiar la cantidad de columnas y filas agregamos 2 parametros a la funcion `matrix()` los cuales son: nrow y ncol que por logica especifican la cantidad de filas y columnas que tendra la matriz, se definen como:  `matrix(argument,nrow = int, ncol = int)` donde int es cualquier numero entero y argument es el rango de datos."
      ]
    },
    {
      "cell_type": "code",
      "metadata": {
        "id": "3J2zuyutMzrg",
        "outputId": "08f9181d-177e-452c-f50c-a62a3725ec29",
        "colab": {
          "base_uri": "https://localhost:8080/"
        }
      },
      "source": [
        "a<-matrix(1:20, nrow=5,ncol=4)\n",
        "print(a)"
      ],
      "execution_count": 4,
      "outputs": [
        {
          "output_type": "stream",
          "text": [
            "     [,1] [,2] [,3] [,4]\n",
            "[1,]    1    6   11   16\n",
            "[2,]    2    7   12   17\n",
            "[3,]    3    8   13   18\n",
            "[4,]    4    9   14   19\n",
            "[5,]    5   10   15   20\n"
          ],
          "name": "stdout"
        }
      ]
    },
    {
      "cell_type": "markdown",
      "metadata": {
        "id": "ur15ZbRMWIiy"
      },
      "source": [
        "Se puede observar que el orden de los datos es de arriba hacia abajo y de izquierda hacia derecha con prioridad vertical.\n",
        "\n",
        "Tambien podemos usar otras 2 funciones llamadas `cbind()` y `rbind()` las cuales unen varios vectores en una sola matriz, se diferencian en la forma de unirse, el primero, organiza los vectores como columna y el segundo como filas."
      ]
    },
    {
      "cell_type": "code",
      "metadata": {
        "id": "kOornsvyPPwy"
      },
      "source": [
        "#Definimos los vectores\n",
        "vector1<-1:4\n",
        "vector2<-5:8\n",
        "vector3<-9:12"
      ],
      "execution_count": 5,
      "outputs": []
    },
    {
      "cell_type": "code",
      "metadata": {
        "id": "BYkDfMkAbqr4",
        "outputId": "88666052-4a8f-4ca4-af46-15b410f7dea3",
        "colab": {
          "base_uri": "https://localhost:8080/"
        }
      },
      "source": [
        "a<-cbind(vector1,vector2,vector3)\n",
        "print(a)"
      ],
      "execution_count": 8,
      "outputs": [
        {
          "output_type": "stream",
          "text": [
            "     vector1 vector2 vector3\n",
            "[1,]       1       5       9\n",
            "[2,]       2       6      10\n",
            "[3,]       3       7      11\n",
            "[4,]       4       8      12\n"
          ],
          "name": "stdout"
        }
      ]
    },
    {
      "cell_type": "code",
      "metadata": {
        "id": "NdsbDjs0cWiJ",
        "outputId": "e91e6fee-2d2b-4ee9-ecc0-0dad6624db1f",
        "colab": {
          "base_uri": "https://localhost:8080/"
        }
      },
      "source": [
        "b<-rbind(vector1,vector2,vector3)\n",
        "print(b)"
      ],
      "execution_count": 9,
      "outputs": [
        {
          "output_type": "stream",
          "text": [
            "        [,1] [,2] [,3] [,4]\n",
            "vector1    1    2    3    4\n",
            "vector2    5    6    7    8\n",
            "vector3    9   10   11   12\n"
          ],
          "name": "stdout"
        }
      ]
    },
    {
      "cell_type": "markdown",
      "metadata": {
        "id": "9uqDEwqggWX9"
      },
      "source": [
        "Ademas existen diversas operaciones aplicables como la multiplicacion por un escalar o la transpuesta de una matriz.\n",
        "\n",
        "Primero veremos como multiplicar por un escalar para ello usaremos la matriz asignada a la variable b.\n",
        "\n",
        "A continuacion un ejemplo."
      ]
    },
    {
      "cell_type": "code",
      "metadata": {
        "id": "tGW3CUPGcZST",
        "outputId": "81715d79-11dc-43d0-e22a-f57ca463b633",
        "colab": {
          "base_uri": "https://localhost:8080/"
        }
      },
      "source": [
        "bEs<-b*2\n",
        "print(bEs)"
      ],
      "execution_count": 12,
      "outputs": [
        {
          "output_type": "stream",
          "text": [
            "        [,1] [,2] [,3] [,4]\n",
            "vector1    2    4    6    8\n",
            "vector2   10   12   14   16\n",
            "vector3   18   20   22   24\n"
          ],
          "name": "stdout"
        }
      ]
    },
    {
      "cell_type": "markdown",
      "metadata": {
        "id": "XASTQpliip3U"
      },
      "source": [
        "Para transponer una matriz necesitaremos la función `t()`:"
      ]
    },
    {
      "cell_type": "code",
      "metadata": {
        "id": "qP7GIUl-hriM",
        "outputId": "8d3e0ab0-fe09-4ce3-faf8-f0b6afaf3b8e",
        "colab": {
          "base_uri": "https://localhost:8080/"
        }
      },
      "source": [
        "tras<-t(bEs)\n",
        "print(tras)"
      ],
      "execution_count": 13,
      "outputs": [
        {
          "output_type": "stream",
          "text": [
            "     vector1 vector2 vector3\n",
            "[1,]       2      10      18\n",
            "[2,]       4      12      20\n",
            "[3,]       6      14      22\n",
            "[4,]       8      16      24\n"
          ],
          "name": "stdout"
        }
      ]
    },
    {
      "cell_type": "markdown",
      "metadata": {
        "id": "eI_4HFYjpd1K"
      },
      "source": [
        "<h1>Objetos</h1>"
      ]
    },
    {
      "cell_type": "markdown",
      "metadata": {
        "id": "6Xy-kyMFpiHs"
      },
      "source": [
        "En R existen varios tipos de objectos que permiten que el usuario pueda almacenar la información para realizar procedimientos estadísticos y gráficos. Los principales objetos en R son vectores, matrices, arreglos, marcos de datos y listas"
      ]
    },
    {
      "cell_type": "markdown",
      "metadata": {
        "id": "bW9B_Y9FpyrU"
      },
      "source": [
        "<h3>Vectores</h3>"
      ]
    },
    {
      "cell_type": "markdown",
      "metadata": {
        "id": "0CzGHNIOpyfE"
      },
      "source": [
        "<h3>Matrices</h3>"
      ]
    },
    {
      "cell_type": "markdown",
      "metadata": {
        "id": "Gini2R8DpyNu"
      },
      "source": [
        "<h3>Arreglos</h3>"
      ]
    },
    {
      "cell_type": "markdown",
      "metadata": {
        "id": "-ctBY7G2px7g"
      },
      "source": [
        "<h3>Marcos de datos</h3>"
      ]
    },
    {
      "cell_type": "markdown",
      "metadata": {
        "id": "m4cBntkLpxXR"
      },
      "source": [
        "<h3>Listas</h3>"
      ]
    },
    {
      "cell_type": "code",
      "metadata": {
        "id": "Zk4oHUu6jMmh"
      },
      "source": [
        ""
      ],
      "execution_count": null,
      "outputs": []
    }
  ]
}