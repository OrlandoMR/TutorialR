{
  "nbformat": 4,
  "nbformat_minor": 0,
  "metadata": {
    "colab": {
      "name": "Tutorial en R.ipynb",
      "provenance": [],
      "include_colab_link": true
    },
    "kernelspec": {
      "name": "ir",
      "display_name": "R"
    }
  },
  "cells": [
    {
      "cell_type": "markdown",
      "metadata": {
        "id": "view-in-github",
        "colab_type": "text"
      },
      "source": [
        "<a href=\"https://colab.research.google.com/github/OrlandoMR/TutorialR/blob/master/Tutorial_en_R.ipynb\" target=\"_parent\"><img src=\"https://colab.research.google.com/assets/colab-badge.svg\" alt=\"Open In Colab\"/></a>"
      ]
    },
    {
      "cell_type": "markdown",
      "metadata": {
        "id": "xGqNHbW6LAYv"
      },
      "source": [
        "<h1>Tutorial de R</h1>\n"
      ]
    },
    {
      "cell_type": "markdown",
      "metadata": {
        "id": "4Oi8NtJyLEVe"
      },
      "source": [
        "<h2>Integrantes:</h2>\n",
        "Orlando Alberto Moncada Rodriguez - 2170133 <br/>\n",
        "Juan Felipe Ortiz Trillos - 2170105<br/>\n",
        "Andres Felipe Uribe Garcia - 2160793<br/><br/><br/>"
      ]
    },
    {
      "cell_type": "markdown",
      "metadata": {
        "id": "VG1I6WV-LIhd"
      },
      "source": [
        "<h2>Historia de R</h2>\n",
        "\n",
        "\n",
        "R tiene sus orígenes en S, un lenguaje de programación creado en los Laboratorios Bell de Estados Unidos. Sí, los mismos laboratorios que inventaron el transistor, el láser, el sistema operativo Unix y algunas otras cosas más.<br></br>\n",
        "R es un lenguaje relativamente joven pero que ha experimentado un crecimiento acelerado en su adopción durante los últimos 10 años. <br></br>\n",
        "En septiembre de 2017, de acuerdo al TIOBE programming community index (2017), que es uno de los índices de más prestigio en el mundo en relación popularidad en el uso de lenguajes de programación, R era el lenguaje número 11 en popularidad, después de haber sido el lenguaje número 18 en el 2016. Esto es sobresaliente si consideramos que R es un lenguaje dedicado únicamente a la estadística, mientras que lenguajes como Python (número 5 en 2017) o Java (número 1) son lenguajes que pueden ser usados para todo tipo de tareas, desde crear sitios web hasta programar robots. <br></br>\n",
        "\n",
        "\n",
        "---"
      ]
    },
    {
      "cell_type": "markdown",
      "metadata": {
        "id": "0_BXRIu8LNEd"
      },
      "source": [
        "<h2>Estructuras de control</h2>\n",
        "\n",
        "Como su nombre lo indica, las estructuras de control nos permiten controlar la manera en que se ejecuta nuestro código.\n",
        "\n",
        "Las estructuras de control establecen condicionales en nuestros código. Por ejemplo, qué condiciones deben cumplirse para realizar una operación o qué debe ocurrir para ejecutar una función.\n",
        "\n",
        "Esto es de gran utilidad para determinar la lógica y el orden en que ocurren las operaciones, en especial al definir funciones.\n",
        "\n",
        "Las estructuras de control más usadas en R son las siguientes:"
      ]
    },
    {
      "cell_type": "markdown",
      "metadata": {
        "id": "yzqVQ7hALQ9t"
      },
      "source": [
        "\n",
        "*   <h2>if, else</h2>\n",
        "\n",
        "El modelo para un if es\n",
        "\n",
        "```\n",
        "if(Condición) {\n",
        "  operaciones_si_la_condición_es_TRUE\n",
        "}\n",
        "```\n",
        "\n",
        "Si la condición se cumple, es decir, es verdadera (TRUE), entonces se realizan las operaciones. En caso contrario, no ocurre nada y el código con las operaciones no es ejecutado. Se pueden quitar los corchetes e igualmente ejecuta el *if*\n",
        "\n",
        "Por ejemplo, le pedimos a R que nos muestre el texto “Verdadero” si la condición se cumple"
      ]
    },
    {
      "cell_type": "code",
      "metadata": {
        "id": "EkjzgR7ILV1c",
        "outputId": "1a011a89-3c60-4fbe-c79e-09fcf2ac36c2",
        "colab": {
          "base_uri": "https://localhost:8080/",
          "height": 34
        }
      },
      "source": [
        "\n",
        "if( 4 > 3)\n",
        "    \"Verdadero\""
      ],
      "execution_count": null,
      "outputs": [
        {
          "output_type": "display_data",
          "data": {
            "text/plain": [
              "[1] \"Verdadero\""
            ],
            "text/latex": "'Verdadero'",
            "text/markdown": "'Verdadero'",
            "text/html": [
              "'Verdadero'"
            ]
          },
          "metadata": {
            "tags": []
          }
        }
      ]
    },
    {
      "cell_type": "markdown",
      "metadata": {
        "id": "fT2dsK3tLWLE"
      },
      "source": [
        "***else*** complementa un ***if***, pues indica qué ocurrirá cuando la condición no se cumple, es falsa (FALSE), en lugar de no hacer nada."
      ]
    },
    {
      "cell_type": "code",
      "metadata": {
        "id": "9P0ad9KTLW3E",
        "outputId": "2b398fd1-6b61-4e36-b8c1-1c044cf377f0",
        "colab": {
          "base_uri": "https://localhost:8080/",
          "height": 34
        }
      },
      "source": [
        "# No se cumple la condición y se muestra \"Falso\"\n",
        "if(4 > 5) \n",
        "{\n",
        "  \"Verdadero\"\n",
        "} else {\n",
        "    \"Falso\"\n",
        "  }"
      ],
      "execution_count": null,
      "outputs": [
        {
          "output_type": "display_data",
          "data": {
            "text/plain": [
              "[1] \"Falso\""
            ],
            "text/latex": "'Falso'",
            "text/markdown": "'Falso'",
            "text/html": [
              "'Falso'"
            ]
          },
          "metadata": {
            "tags": []
          }
        }
      ]
    },
    {
      "cell_type": "markdown",
      "metadata": {
        "id": "phgyGhMXdZ2j"
      },
      "source": [
        "La función ***ifelse( )*** nos permite vectorizar if, else. En lugar de escribir una línea de código para cada comparación, podemos usar una sola llamada a esta función, que se aplicará a todos los elementos de un vector.</br>\n",
        "\n",
        "Por ejemplo, pedimos sólo los números que son exactamente divisibles entre 2 y 3."
      ]
    },
    {
      "cell_type": "code",
      "metadata": {
        "id": "dRET9W6FdeZb"
      },
      "source": [
        "num <- 1:20\n",
        "\n",
        "ifelse(num %% 2 == 0 & num %% 3 == 0, \"Divisible\", \"No divisible\")"
      ],
      "execution_count": null,
      "outputs": []
    },
    {
      "cell_type": "markdown",
      "metadata": {
        "id": "W1msvmNRdgUC"
      },
      "source": [
        "<br></br> \n",
        "\n",
        "*   <h2>for</h2>\n",
        "\n",
        "La estructura for nos permite ejecutar un bucle (loop), realizando una operación para cada elemento de un conjunto de datos.\n",
        "\n",
        "Su estructura es la siguiente:\n",
        "\n",
        "```\n",
        "for(elemento in objeto) {\n",
        "  operacion_con_elemento\n",
        "}\n",
        "```"
      ]
    },
    {
      "cell_type": "markdown",
      "metadata": {
        "id": "LiOG2rtFdhWM"
      },
      "source": [
        "usar **print()** sólo mostrará los resultados de las operaciones en la consola, no los asignará a un objeto.\n",
        "\n",
        "Si deseamos asignar los resultados de un bucle **for** a un objeto, usamos índices.\n",
        "\n",
        "Aprovechamos que el primer elemento en un bucle siempre es identificado con el número 1 y que continuará realizando operaciones hasta llegar al total de elementos que hemos especificado."
      ]
    },
    {
      "cell_type": "code",
      "metadata": {
        "id": "wx7PapTMdtds",
        "outputId": "3f9f2785-f9ea-4640-9864-8c573505a05f",
        "colab": {
          "base_uri": "https://localhost:8080/"
        }
      },
      "source": [
        "for(numero in 1:10) {\n",
        "  print(numero)\n",
        "}"
      ],
      "execution_count": null,
      "outputs": [
        {
          "output_type": "stream",
          "text": [
            "[1] 1\n",
            "[1] 2\n",
            "[1] 3\n",
            "[1] 4\n",
            "[1] 5\n",
            "[1] 6\n",
            "[1] 7\n",
            "[1] 8\n",
            "[1] 9\n",
            "[1] 10\n"
          ],
          "name": "stdout"
        }
      ]
    },
    {
      "cell_type": "markdown",
      "metadata": {
        "id": "KSWu7dRoeM54"
      },
      "source": [
        "<br></br> \n",
        "\n",
        "*   <h2>while</h2>\n",
        "\n",
        "Este es un tipo de bucle que ocurre mientras una condición es verdadera (TRUE). La operación se realiza hasta que se se llega a cumplir un criterio previamente establecido.\n",
        "\n",
        "El modelo de while es:\n",
        "\n",
        "\n",
        "\n",
        "```\n",
        "while(condicion) {\n",
        "  operaciones\n",
        "}\n",
        "```\n",
        "\n",
        "Para obtener números al azar del 1 al 10, usamos la función sample(). Esta función va a tomar una muestra al azar de tamaño igual a 1 (argumento size) de un vector del 1 al 10 (argumento x) cada vez que se ejecute.\n",
        "\n",
        "Por lo tanto, cada vez que corras el ejemplo siguiente obtendrás un resultado distinto, pero siempre llegarás a un valor mayor a 50.\n",
        "\n",
        "Creamos dos objetos, conteo y valor. Les asignamos el valor 0.\n",
        "\n",
        "Nuestro while hará dos cosas.\n",
        "\n",
        "Primero, tomará un número al azar del 1 al 10, y lo sumará a valor. Segundo, le sumará 1 a conteo cada que esto ocurra, de esta manera sabremos cuántas iteraciones ocurrieron para llegar a un valor que no sea menor a 50."
      ]
    },
    {
      "cell_type": "code",
      "metadata": {
        "id": "mSWApdnreWOZ",
        "outputId": "c45099b7-fe31-4cf5-dd0b-74fa9b829fc6",
        "colab": {
          "base_uri": "https://localhost:8080/"
        }
      },
      "source": [
        "conteo <-  0\n",
        "valor <- 0\n",
        "\n",
        "while(valor < 50) {\n",
        "  valor <- valor + sample(x = 1:10, size = 1)\n",
        "  conteo <- conteo + 1\n",
        "  cat(\"valor: \", valor, \"\\n\")\n",
        "}\n",
        "cat(\"Conteo: \", conteo)"
      ],
      "execution_count": null,
      "outputs": [
        {
          "output_type": "stream",
          "text": [
            "valor:  7 \n",
            "valor:  11 \n",
            "valor:  19 \n",
            "valor:  29 \n",
            "valor:  33 \n",
            "valor:  34 \n",
            "valor:  43 \n",
            "valor:  50 \n",
            "Conteo:  8"
          ],
          "name": "stdout"
        }
      ]
    },
    {
      "cell_type": "markdown",
      "metadata": {
        "id": "r8u3P3VJnJfL"
      },
      "source": [
        "<br></br> \n",
        "\n",
        "*   <h2>break</h2>\n",
        "\n",
        "Para interrumpir un bucle con break, necesitamos que se cumpla una condición. Cuando esto ocurre, el bucle se detiene, aunque existan elementos a los cuales aún podría aplicarse.\n",
        "\n",
        "Interrumpimos un for cuando i es igual a 6, aunque aún queden 4 elementos en el objeto."
      ]
    },
    {
      "cell_type": "code",
      "metadata": {
        "id": "IPbdf0YUnXuR",
        "outputId": "22c16e4d-91cf-4725-e1db-9cf7d2e045c8",
        "colab": {
          "base_uri": "https://localhost:8080/"
        }
      },
      "source": [
        "for(i in 1:10) \n",
        "{\n",
        "  print(i)\n",
        "  if(i == 6) {\n",
        "    break\n",
        "  }\n",
        "}"
      ],
      "execution_count": null,
      "outputs": [
        {
          "output_type": "stream",
          "text": [
            "[1] 1\n",
            "[1] 2\n",
            "[1] 3\n",
            "[1] 4\n",
            "[1] 5\n",
            "[1] 6\n"
          ],
          "name": "stdout"
        }
      ]
    },
    {
      "cell_type": "markdown",
      "metadata": {
        "id": "1VZuzMiSoFos"
      },
      "source": [
        "<br></br> \n",
        "\n",
        "*   <h2>next</h2>\n",
        "\n",
        "Por su parte, usamos next para “saltarnos” una iteración en un bucle. Cuando la condición se cumple, esa iteración es omitida."
      ]
    },
    {
      "cell_type": "code",
      "metadata": {
        "id": "c2TxayI5oLyS",
        "outputId": "485cb06f-eb4a-422d-f469-f1a68dec1485",
        "colab": {
          "base_uri": "https://localhost:8080/"
        }
      },
      "source": [
        "for(i in 1:4) {\n",
        "  if(i == 3) {\n",
        "    next\n",
        "  }\n",
        "  print(i)\n",
        "}"
      ],
      "execution_count": null,
      "outputs": [
        {
          "output_type": "stream",
          "text": [
            "[1] 1\n",
            "[1] 2\n",
            "[1] 4\n"
          ],
          "name": "stdout"
        }
      ]
    },
    {
      "cell_type": "markdown",
      "metadata": {
        "id": "XiCtSP_boaFL"
      },
      "source": [
        "Estas dos *estructuras de contro*l nos dan un control fino sobre nuestro código. aunque los dos ejemplos de arriba son con **for**, también funcionan con **while** y **repeat**.\n",
        "\n",
        "En realidad, **break** es indispensable para **repeat**."
      ]
    },
    {
      "cell_type": "markdown",
      "metadata": {
        "id": "cYGEyCxCojyT"
      },
      "source": [
        "<br></br> \n",
        "\n",
        "*   <h2>repeat</h2>\n",
        "\n",
        "Este es un bucle que se llevará a cabo el número de veces que especifiquemos, usando un break para detenerse. repeat asegura que las operaciones que contiene sean iteradas al menos en una ocasión.\n",
        "\n",
        "La estructura de repeat es el siguiente:\n",
        "\n",
        "\n",
        "\n",
        "```\n",
        "repeat {\n",
        "  operaciones\n",
        "  \n",
        "  un_break_para_detener\n",
        "}\n",
        "```\n",
        "\n",
        "Por ejemplo, el siguiente repeat sumará +1 a valor hasta que este sea igual a cinco, entonces se detendrá."
      ]
    },
    {
      "cell_type": "code",
      "metadata": {
        "id": "-tubbkSUo3PT",
        "outputId": "4dc4537d-e712-4669-d0a8-4e1d19eb7b61",
        "colab": {
          "base_uri": "https://localhost:8080/"
        }
      },
      "source": [
        "valor <-  0\n",
        "mi_vector <- NULL\n",
        "\n",
        "repeat{\n",
        "  valor <- valor + 1\n",
        "  if(valor == 5) {\n",
        "    break\n",
        "  }\n",
        "}\n",
        "\n",
        "# Resultado\n",
        "cat(\"valor: \" ,valor)"
      ],
      "execution_count": null,
      "outputs": [
        {
          "output_type": "stream",
          "text": [
            "valor:  5"
          ],
          "name": "stdout"
        }
      ]
    },
    {
      "cell_type": "markdown",
      "metadata": {
        "id": "52fzrxHDpXt1"
      },
      "source": [
        "Este tipo de bucle es quizás el menos utilizado de todos, pues en **R** existen alternativas para obtener los mismos resultados de manera más sencilla y sin el riesgo de crear un bucle infinito. Sin embargo, puede ser la mejor alternativa para problemas específicos."
      ]
    },
    {
      "cell_type": "markdown",
      "metadata": {
        "id": "PO25NYs7_fsB"
      },
      "source": [
        "<br></br>\n",
        "\n",
        "<h1> Matrices</h1>\n",
        "\n",
        "Las matrices y arrays pueden ser descritas como vectores multidimensionales. Al igual que un vector, únicamente pueden contener datos de un sólo tipo, pero además de largo, tienen más dimensiones.\n",
        "\n"
      ]
    },
    {
      "cell_type": "markdown",
      "metadata": {
        "id": "2sKu610RFrAD"
      },
      "source": [
        "Para crear una matriz requerimos la funcion ` matrix() ` la cual inicializa una matriz con un rango de datos.\n",
        "\n",
        "Por ejemplo:\n",
        "\n",
        "\n",
        "\n",
        "\n",
        "\n",
        "\n",
        "\n"
      ]
    },
    {
      "cell_type": "code",
      "metadata": {
        "id": "ZKDQf7_HMYLl",
        "outputId": "d894356f-f26e-4bca-d713-2b30310f1456",
        "colab": {
          "base_uri": "https://localhost:8080/"
        }
      },
      "source": [
        "a<-matrix(1:10)\n",
        "print(a)"
      ],
      "execution_count": null,
      "outputs": [
        {
          "output_type": "stream",
          "text": [
            "      [,1]\n",
            " [1,]    1\n",
            " [2,]    2\n",
            " [3,]    3\n",
            " [4,]    4\n",
            " [5,]    5\n",
            " [6,]    6\n",
            " [7,]    7\n",
            " [8,]    8\n",
            " [9,]    9\n",
            "[10,]   10\n"
          ],
          "name": "stdout"
        }
      ]
    },
    {
      "cell_type": "markdown",
      "metadata": {
        "id": "j1RVV4qmNO6E"
      },
      "source": [
        "Como podemos ver, es tan solo una matriz de una columna pero de 10 filas ya que debe contener valores del 1 al 10.\n",
        "\n",
        "Para cambiar la cantidad de columnas y filas agregamos 2 parametros a la funcion `matrix()` los cuales son: nrow y ncol que por logica especifican la cantidad de filas y columnas que tendra la matriz, se definen como:  `matrix(argument,nrow = int, ncol = int)` donde int es cualquier numero entero y argument es el rango de datos."
      ]
    },
    {
      "cell_type": "code",
      "metadata": {
        "id": "3J2zuyutMzrg",
        "outputId": "08f9181d-177e-452c-f50c-a62a3725ec29",
        "colab": {
          "base_uri": "https://localhost:8080/"
        }
      },
      "source": [
        "a<-matrix(1:20, nrow=5,ncol=4)\n",
        "print(a)"
      ],
      "execution_count": null,
      "outputs": [
        {
          "output_type": "stream",
          "text": [
            "     [,1] [,2] [,3] [,4]\n",
            "[1,]    1    6   11   16\n",
            "[2,]    2    7   12   17\n",
            "[3,]    3    8   13   18\n",
            "[4,]    4    9   14   19\n",
            "[5,]    5   10   15   20\n"
          ],
          "name": "stdout"
        }
      ]
    },
    {
      "cell_type": "markdown",
      "metadata": {
        "id": "ur15ZbRMWIiy"
      },
      "source": [
        "Se puede observar que el orden de los datos es de arriba hacia abajo y de izquierda hacia derecha con prioridad vertical.\n",
        "\n",
        "Tambien podemos usar otras 2 funciones llamadas `cbind()` y `rbind()` las cuales unen varios vectores en una sola matriz, se diferencian en la forma de unirse, el primero, organiza los vectores como columna y el segundo como filas."
      ]
    },
    {
      "cell_type": "code",
      "metadata": {
        "id": "kOornsvyPPwy"
      },
      "source": [
        "#Definimos los vectores\n",
        "vector1<-1:4\n",
        "vector2<-5:8\n",
        "vector3<-9:12"
      ],
      "execution_count": null,
      "outputs": []
    },
    {
      "cell_type": "code",
      "metadata": {
        "id": "BYkDfMkAbqr4",
        "outputId": "88666052-4a8f-4ca4-af46-15b410f7dea3",
        "colab": {
          "base_uri": "https://localhost:8080/"
        }
      },
      "source": [
        "a<-cbind(vector1,vector2,vector3)\n",
        "print(a)"
      ],
      "execution_count": null,
      "outputs": [
        {
          "output_type": "stream",
          "text": [
            "     vector1 vector2 vector3\n",
            "[1,]       1       5       9\n",
            "[2,]       2       6      10\n",
            "[3,]       3       7      11\n",
            "[4,]       4       8      12\n"
          ],
          "name": "stdout"
        }
      ]
    },
    {
      "cell_type": "code",
      "metadata": {
        "id": "NdsbDjs0cWiJ",
        "outputId": "e91e6fee-2d2b-4ee9-ecc0-0dad6624db1f",
        "colab": {
          "base_uri": "https://localhost:8080/"
        }
      },
      "source": [
        "b<-rbind(vector1,vector2,vector3)\n",
        "print(b)"
      ],
      "execution_count": null,
      "outputs": [
        {
          "output_type": "stream",
          "text": [
            "        [,1] [,2] [,3] [,4]\n",
            "vector1    1    2    3    4\n",
            "vector2    5    6    7    8\n",
            "vector3    9   10   11   12\n"
          ],
          "name": "stdout"
        }
      ]
    },
    {
      "cell_type": "markdown",
      "metadata": {
        "id": "9uqDEwqggWX9"
      },
      "source": [
        "Ademas existen diversas operaciones aplicables como la multiplicacion por un escalar o la transpuesta de una matriz.\n",
        "\n",
        "Primero veremos como multiplicar por un escalar para ello usaremos la matriz asignada a la variable b.\n",
        "\n",
        "A continuacion un ejemplo."
      ]
    },
    {
      "cell_type": "code",
      "metadata": {
        "id": "tGW3CUPGcZST",
        "outputId": "81715d79-11dc-43d0-e22a-f57ca463b633",
        "colab": {
          "base_uri": "https://localhost:8080/"
        }
      },
      "source": [
        "bEs<-b*2\n",
        "print(bEs)"
      ],
      "execution_count": null,
      "outputs": [
        {
          "output_type": "stream",
          "text": [
            "        [,1] [,2] [,3] [,4]\n",
            "vector1    2    4    6    8\n",
            "vector2   10   12   14   16\n",
            "vector3   18   20   22   24\n"
          ],
          "name": "stdout"
        }
      ]
    },
    {
      "cell_type": "markdown",
      "metadata": {
        "id": "XASTQpliip3U"
      },
      "source": [
        "Para transponer una matriz necesitaremos la función `t()`:"
      ]
    },
    {
      "cell_type": "code",
      "metadata": {
        "id": "qP7GIUl-hriM",
        "outputId": "8d3e0ab0-fe09-4ce3-faf8-f0b6afaf3b8e",
        "colab": {
          "base_uri": "https://localhost:8080/"
        }
      },
      "source": [
        "tras<-t(bEs)\n",
        "print(tras)"
      ],
      "execution_count": null,
      "outputs": [
        {
          "output_type": "stream",
          "text": [
            "     vector1 vector2 vector3\n",
            "[1,]       2      10      18\n",
            "[2,]       4      12      20\n",
            "[3,]       6      14      22\n",
            "[4,]       8      16      24\n"
          ],
          "name": "stdout"
        }
      ]
    },
    {
      "cell_type": "markdown",
      "metadata": {
        "id": "eI_4HFYjpd1K"
      },
      "source": [
        "<br></br>\n",
        "\n",
        "<h1>Objetos</h1>"
      ]
    },
    {
      "cell_type": "markdown",
      "metadata": {
        "id": "6Xy-kyMFpiHs"
      },
      "source": [
        "En R existen varios tipos de objectos que permiten que el usuario pueda almacenar la información para realizar procedimientos estadísticos y gráficos. Los principales objetos en R son vectores, matrices, arreglos, marcos de datos y listas"
      ]
    },
    {
      "cell_type": "markdown",
      "metadata": {
        "id": "bW9B_Y9FpyrU"
      },
      "source": [
        "<h3>Vectores</h3>"
      ]
    },
    {
      "cell_type": "markdown",
      "metadata": {
        "id": "ANU2X9N4psVn"
      },
      "source": [
        "Los vectores entran en la definicion de objeto de R ya que es una estructura en la cual se pueden guardar datos y hacer operaciones con estos."
      ]
    },
    {
      "cell_type": "code",
      "metadata": {
        "id": "k5yrCw30nugi",
        "outputId": "07514f75-07db-4ab8-d803-90dd27dfe20d",
        "colab": {
          "base_uri": "https://localhost:8080/"
        }
      },
      "source": [
        "edad<-c(20,22,24,12,NA,17)\n",
        "print(edad)\n",
        "mayor<-c(TRUE,FALSE,FALSE,TRUE,NA,TRUE)\n",
        "print(mayor)"
      ],
      "execution_count": null,
      "outputs": [
        {
          "output_type": "stream",
          "text": [
            "[1] 20 22 24 12 NA 17\n",
            "[1]  TRUE FALSE FALSE  TRUE    NA  TRUE\n"
          ],
          "name": "stdout"
        }
      ]
    },
    {
      "cell_type": "markdown",
      "metadata": {
        "id": "0CzGHNIOpyfE"
      },
      "source": [
        "<h3>Matrices</h3>"
      ]
    },
    {
      "cell_type": "markdown",
      "metadata": {
        "id": "iwOR1RpMp80Q"
      },
      "source": [
        "Las matrices al igual que los vectores son objetos 2-dimensionales para recolectar datos"
      ]
    },
    {
      "cell_type": "code",
      "metadata": {
        "id": "Fpk7MktDqLQy",
        "outputId": "9831b8bf-e17f-40f2-ffe4-0d0c4637987b",
        "colab": {
          "base_uri": "https://localhost:8080/"
        }
      },
      "source": [
        "ma<-cbind(edad,mayor)\n",
        "print(ma)"
      ],
      "execution_count": null,
      "outputs": [
        {
          "output_type": "stream",
          "text": [
            "     edad mayor\n",
            "[1,]   20     1\n",
            "[2,]   22     0\n",
            "[3,]   24     0\n",
            "[4,]   12     1\n",
            "[5,]   NA    NA\n",
            "[6,]   17     1\n"
          ],
          "name": "stdout"
        }
      ]
    },
    {
      "cell_type": "markdown",
      "metadata": {
        "id": "Gini2R8DpyNu"
      },
      "source": [
        "<h3>Arreglos</h3>"
      ]
    },
    {
      "cell_type": "markdown",
      "metadata": {
        "id": "oOyU9YAMnAt7"
      },
      "source": [
        "Un arreglo es una matriz de n-dimensiones que se define con la funcion `array()` que recibe los parametros de los datos y las dimensiones en las que se ordenan estos."
      ]
    },
    {
      "cell_type": "code",
      "metadata": {
        "id": "wV8v0PFwq-F5",
        "outputId": "0f823446-0cc1-4a29-e1b1-cfe9e249d6e8",
        "colab": {
          "base_uri": "https://localhost:8080/"
        }
      },
      "source": [
        "#Definimos el array\n",
        "ar<-array(data=1:24,dim=c(3,4,2))\n",
        "print(ar)"
      ],
      "execution_count": null,
      "outputs": [
        {
          "output_type": "stream",
          "text": [
            ", , 1\n",
            "\n",
            "     [,1] [,2] [,3] [,4]\n",
            "[1,]    1    4    7   10\n",
            "[2,]    2    5    8   11\n",
            "[3,]    3    6    9   12\n",
            "\n",
            ", , 2\n",
            "\n",
            "     [,1] [,2] [,3] [,4]\n",
            "[1,]   13   16   19   22\n",
            "[2,]   14   17   20   23\n",
            "[3,]   15   18   21   24\n",
            "\n"
          ],
          "name": "stdout"
        }
      ]
    },
    {
      "cell_type": "markdown",
      "metadata": {
        "id": "mvBbWPZCrZpE"
      },
      "source": [
        "Para acceder a algun valor de este array solo debemos tener en cuenta el orden de acceso, primero fila, luego columna y por ultimo el bloque"
      ]
    },
    {
      "cell_type": "code",
      "metadata": {
        "id": "ifOEYQHxr6MP",
        "outputId": "c8e4b1bd-e534-4d15-a93b-b249b180b923",
        "colab": {
          "base_uri": "https://localhost:8080/",
          "height": 34
        }
      },
      "source": [
        "ar[2,3,1]"
      ],
      "execution_count": null,
      "outputs": [
        {
          "output_type": "display_data",
          "data": {
            "text/plain": [
              "[1] 8"
            ],
            "text/latex": "8",
            "text/markdown": "8",
            "text/html": [
              "8"
            ]
          },
          "metadata": {
            "tags": []
          }
        }
      ]
    },
    {
      "cell_type": "markdown",
      "metadata": {
        "id": "-ctBY7G2px7g"
      },
      "source": [
        "<h3>Marcos de datos</h3>"
      ]
    },
    {
      "cell_type": "markdown",
      "metadata": {
        "id": "pI3yCx3snBID"
      },
      "source": [
        "Marco de datos o data frame es el mas usado ya que permite almacenar o agrupar vectores con informacion de diferente tipo. La funcion para crearlo es `data.frame()` a la cual se le agregan los vectores."
      ]
    },
    {
      "cell_type": "code",
      "metadata": {
        "id": "SbAXBifKsjMt",
        "outputId": "2a717fc8-ba2e-4676-95e2-b6d1d7571f9b",
        "colab": {
          "base_uri": "https://localhost:8080/"
        }
      },
      "source": [
        "num<-c(13,25,16,17,18)\n",
        "letras<-c(\"A\",\"B\",\"C\",\"D\",\"E\")\n",
        "logica<-c(TRUE,FALSE,TRUE,FALSE,TRUE)\n",
        "\n",
        "marco<-data.frame(num,letras,logica)\n",
        "print(marco)"
      ],
      "execution_count": null,
      "outputs": [
        {
          "output_type": "stream",
          "text": [
            "  num letras logica\n",
            "1  13      A   TRUE\n",
            "2  25      B  FALSE\n",
            "3  16      C   TRUE\n",
            "4  17      D  FALSE\n",
            "5  18      E   TRUE\n"
          ],
          "name": "stdout"
        }
      ]
    },
    {
      "cell_type": "markdown",
      "metadata": {
        "id": "2Y-ircPFtSS6"
      },
      "source": [
        "Ahora bien solo requerimos la columna letras de nuestro data frame, para ello realizamos lo siguiente:"
      ]
    },
    {
      "cell_type": "code",
      "metadata": {
        "id": "8gPbCD8ktRsj",
        "outputId": "fca19284-4a3b-468f-d074-13d51369f71d",
        "colab": {
          "base_uri": "https://localhost:8080/",
          "height": 164
        }
      },
      "source": [
        "print(marco[\"letras\"])\n",
        "marco[[\"letras\"]]\n",
        "marco$letras"
      ],
      "execution_count": null,
      "outputs": [
        {
          "output_type": "stream",
          "text": [
            "  letras\n",
            "1      A\n",
            "2      B\n",
            "3      C\n",
            "4      D\n",
            "5      E\n"
          ],
          "name": "stdout"
        },
        {
          "output_type": "display_data",
          "data": {
            "text/plain": [
              "[1] \"A\" \"B\" \"C\" \"D\" \"E\""
            ],
            "text/latex": "\\begin{enumerate*}\n\\item 'A'\n\\item 'B'\n\\item 'C'\n\\item 'D'\n\\item 'E'\n\\end{enumerate*}\n",
            "text/markdown": "1. 'A'\n2. 'B'\n3. 'C'\n4. 'D'\n5. 'E'\n\n\n",
            "text/html": [
              "<style>\n",
              ".list-inline {list-style: none; margin:0; padding: 0}\n",
              ".list-inline>li {display: inline-block}\n",
              ".list-inline>li:not(:last-child)::after {content: \"\\00b7\"; padding: 0 .5ex}\n",
              "</style>\n",
              "<ol class=list-inline><li>'A'</li><li>'B'</li><li>'C'</li><li>'D'</li><li>'E'</li></ol>\n"
            ]
          },
          "metadata": {
            "tags": []
          }
        },
        {
          "output_type": "display_data",
          "data": {
            "text/plain": [
              "[1] \"A\" \"B\" \"C\" \"D\" \"E\""
            ],
            "text/latex": "\\begin{enumerate*}\n\\item 'A'\n\\item 'B'\n\\item 'C'\n\\item 'D'\n\\item 'E'\n\\end{enumerate*}\n",
            "text/markdown": "1. 'A'\n2. 'B'\n3. 'C'\n4. 'D'\n5. 'E'\n\n\n",
            "text/html": [
              "<style>\n",
              ".list-inline {list-style: none; margin:0; padding: 0}\n",
              ".list-inline>li {display: inline-block}\n",
              ".list-inline>li:not(:last-child)::after {content: \"\\00b7\"; padding: 0 .5ex}\n",
              "</style>\n",
              "<ol class=list-inline><li>'A'</li><li>'B'</li><li>'C'</li><li>'D'</li><li>'E'</li></ol>\n"
            ]
          },
          "metadata": {
            "tags": []
          }
        }
      ]
    },
    {
      "cell_type": "markdown",
      "metadata": {
        "id": "qkO4VWGAtr62"
      },
      "source": [
        "Como podemos ver las 3 opciones son validas pero la primera nos la muestra estructurada como marco y las otras nos la muestran en forma de vector."
      ]
    },
    {
      "cell_type": "markdown",
      "metadata": {
        "id": "m4cBntkLpxXR"
      },
      "source": [
        "<h3>Listas</h3>"
      ]
    },
    {
      "cell_type": "markdown",
      "metadata": {
        "id": "-iQaP8ZmnBrz"
      },
      "source": [
        "Son conjunto de datos que puede contener otros tipos de objetos como los mencionados anteriormente para ello se usa la funcion `list()` el cual recibe como parametros los objetos separados por comas."
      ]
    },
    {
      "cell_type": "code",
      "metadata": {
        "id": "Zk4oHUu6jMmh",
        "outputId": "198e1ffd-838a-4f02-d5b8-3d25013336dd",
        "colab": {
          "base_uri": "https://localhost:8080/"
        }
      },
      "source": [
        "a<-c(\"Perro\",\"Gato\",\"Conejo\")\n",
        "b<-matrix(1:12,ncol = 3,nrow=4)\n",
        "c<-marco\n",
        "lista<-list(a,b,c)\n",
        "print(lista)"
      ],
      "execution_count": null,
      "outputs": [
        {
          "output_type": "stream",
          "text": [
            "[[1]]\n",
            "[1] \"Perro\"  \"Gato\"   \"Conejo\"\n",
            "\n",
            "[[2]]\n",
            "     [,1] [,2] [,3]\n",
            "[1,]    1    5    9\n",
            "[2,]    2    6   10\n",
            "[3,]    3    7   11\n",
            "[4,]    4    8   12\n",
            "\n",
            "[[3]]\n",
            "  num letras logica\n",
            "1  13      A   TRUE\n",
            "2  25      B  FALSE\n",
            "3  16      C   TRUE\n",
            "4  17      D  FALSE\n",
            "5  18      E   TRUE\n",
            "\n"
          ],
          "name": "stdout"
        }
      ]
    },
    {
      "cell_type": "markdown",
      "metadata": {
        "id": "leqwQjPS1WMB"
      },
      "source": [
        "<h2>Distribuciones de Probabilidad</h2>\n",
        "\n",
        "Muchas veces cuando estamos haciendo calculos estadisticos necesitamos valores de probabilidades de tabla de distribuciones como la Binomial, Normal, Exponencial, Poisson, etc\n",
        "\n",
        "R nos brinda la posibilidad de obtener dichos valores con el paquete *stats* que implementa numerosas funciones para realizar los calculos asociados"
      ]
    },
    {
      "cell_type": "markdown",
      "metadata": {
        "id": "8ldE9o644xNK"
      },
      "source": [
        "<h3>Distribución binomial</h3>\n",
        "\n",
        "La distribución binomial o distribución binómica es una distribución discreta que cuenta el número de éxitos en una secuencia de n ensayos de Bernoulli independientes entre sí, con una probabilidad fija p de ocurrencia del éxito entre los ensayos.\n",
        "\n"
      ]
    },
    {
      "cell_type": "code",
      "metadata": {
        "id": "w2it66aW_IqO",
        "outputId": "8150eeb9-be0d-4a83-c9da-5eadcfdf1ae0",
        "colab": {
          "base_uri": "https://localhost:8080/",
          "height": 85
        }
      },
      "source": [
        "##EJEMPLO\n",
        "\n",
        "## Para obtener un valor puntual como P(X = 17)\n",
        "## teniendo 50 ensayos con probabilidad de 0.3  \n",
        "## utilizamos el codigo:\n",
        "\n",
        "dbinom(17,30,0.6)\n",
        "\n",
        "## o P(X ≤ 12):\n",
        "\n",
        "pbinom(12,30,0.6)\n",
        "\n",
        "sum(dbinom(0:12,30,0.6))\n",
        "\n",
        "1 - sum(dbinom(13:30,30,0.6))\n",
        "\n"
      ],
      "execution_count": 39,
      "outputs": [
        {
          "output_type": "display_data",
          "data": {
            "text/plain": [
              "[1] 0.1360387"
            ],
            "text/latex": "0.136038673076003",
            "text/markdown": "0.136038673076003",
            "text/html": [
              "0.136038673076003"
            ]
          },
          "metadata": {
            "tags": []
          }
        },
        {
          "output_type": "display_data",
          "data": {
            "text/plain": [
              "[1] 0.02123988"
            ],
            "text/latex": "0.0212398761099606",
            "text/markdown": "0.0212398761099606",
            "text/html": [
              "0.0212398761099606"
            ]
          },
          "metadata": {
            "tags": []
          }
        },
        {
          "output_type": "display_data",
          "data": {
            "text/plain": [
              "[1] 0.02123988"
            ],
            "text/latex": "0.0212398761099606",
            "text/markdown": "0.0212398761099606",
            "text/html": [
              "0.0212398761099606"
            ]
          },
          "metadata": {
            "tags": []
          }
        },
        {
          "output_type": "display_data",
          "data": {
            "text/plain": [
              "[1] 0.02123988"
            ],
            "text/latex": "0.0212398761099607",
            "text/markdown": "0.0212398761099607",
            "text/html": [
              "0.0212398761099607"
            ]
          },
          "metadata": {
            "tags": []
          }
        }
      ]
    },
    {
      "cell_type": "code",
      "metadata": {
        "id": "5P7h7CSl5esY",
        "outputId": "ce8b3d50-976c-461d-d448-66537d7e90e2",
        "colab": {
          "base_uri": "https://localhost:8080/",
          "height": 437
        }
      },
      "source": [
        "## Podemos visualizar la función entera con el plot...\n",
        "\n",
        "plot(dbinom(0:30,30,0.6),type=\"h\",xlab=\"K\",ylab=\"Pr(X=k)\",main=\"Función Binomial\")\n"
      ],
      "execution_count": 31,
      "outputs": [
        {
          "output_type": "display_data",
          "data": {
            "image/png": "[encoded data removed]",
            "text/plain": [
              "Plot with title “Función Binomial”"
            ]
          },
          "metadata": {
            "tags": [],
            "image/png": {
              "width": 420,
              "height": 420
            }
          }
        }
      ]
    },
    {
      "cell_type": "markdown",
      "metadata": {
        "id": "MI0IkhIF8K7I"
      },
      "source": [
        "<h3>Distribución normal</h3>\n",
        "\n",
        "La distribución normal tambien conocida distribucipon de Gauss o Laplace-Gauss, es una distribucion de probabilidad de variable continua y aquella que aparece en estadística y en la teoría de probabilidades con mayor frecuecia.\n",
        "\n"
      ]
    },
    {
      "cell_type": "code",
      "metadata": {
        "id": "_n67b2oqDi1Z",
        "outputId": "76f222ce-06cf-4ae2-d043-74b6c7374246",
        "colab": {
          "base_uri": "https://localhost:8080/",
          "height": 488
        }
      },
      "source": [
        "##EJEMPLO\n",
        "\n",
        "## Para obtener un valor puntual como P(X ≤ 180)\n",
        "## teniendo X≈N(150,30)\n",
        "## utilizamos el codigo:\n",
        "\n",
        "pnorm(180,150,35)\n",
        "\n",
        "## para P(X > 168):\n",
        "\n",
        "pnorm(180,150,12)\n",
        "\n",
        "## y P(150 ≤ X ≤ 168)\n",
        "\n",
        "pnorm(168,150,35)-pnorm(150,150,35)\n",
        "\n",
        "##podemos graficar el ejemplo anterior por medio de:\n",
        "\n",
        "regionX=seq(150,168,0.01)            # Intervalo a sombrear\n",
        "xP <- c(150,regionX,168)             # Base de los polígonos que crean el efecto \"sombra\"\n",
        "yP <- c(0,dnorm(regionX,150,35),0)   # Altura de los polígonos sombreados\n",
        "curve(dnorm(x,150,35),xlim=c(50,250),yaxs=\"i\",ylim=c(0,0.012),ylab=\"P(x)\") \n",
        "polygon(xP,yP,col=\"orange1\")\n",
        "box()"
      ],
      "execution_count": 74,
      "outputs": [
        {
          "output_type": "display_data",
          "data": {
            "text/plain": [
              "[1] 0.804317"
            ],
            "text/latex": "0.804317030846224",
            "text/markdown": "0.804317030846224",
            "text/html": [
              "0.804317030846224"
            ]
          },
          "metadata": {
            "tags": []
          }
        },
        {
          "output_type": "display_data",
          "data": {
            "text/plain": [
              "[1] 0.9937903"
            ],
            "text/latex": "0.993790334674224",
            "text/markdown": "0.993790334674224",
            "text/html": [
              "0.993790334674224"
            ]
          },
          "metadata": {
            "tags": []
          }
        },
        {
          "output_type": "display_data",
          "data": {
            "text/plain": [
              "[1] 0.1964739"
            ],
            "text/latex": "0.196473875964497",
            "text/markdown": "0.196473875964497",
            "text/html": [
              "0.196473875964497"
            ]
          },
          "metadata": {
            "tags": []
          }
        },
        {
          "output_type": "display_data",
          "data": {
            "image/png": "[encoded data removed]",
            "text/plain": [
              "plot without title"
            ]
          },
          "metadata": {
            "tags": [],
            "image/png": {
              "width": 420,
              "height": 420
            }
          }
        }
      ]
    },
    {
      "cell_type": "code",
      "metadata": {
        "id": "GqE4kXuSBhEj",
        "outputId": "c6e48f31-9f11-4a9b-bf65-d4bc53c5675c",
        "colab": {
          "base_uri": "https://localhost:8080/",
          "height": 437
        }
      },
      "source": [
        "## Podemos visualizar la función de densidad de la distribución\n",
        "\n",
        "curve(dnorm(x,150,35),xlim=c(50,250),col=\"red\",lwd=2,\n",
        "      xlab=\"x\",ylab=\"f(x)\",main=\"Función de Densidad N(150,35)\")\n"
      ],
      "execution_count": 61,
      "outputs": [
        {
          "output_type": "display_data",
          "data": {
            "image/png": "[encoded data removed]",
            "text/plain": [
              "Plot with title “Función de Densidad N(150,35)”"
            ]
          },
          "metadata": {
            "tags": [],
            "image/png": {
              "width": 420,
              "height": 420
            }
          }
        }
      ]
    },
    {
      "cell_type": "markdown",
      "metadata": {
        "id": "qfQUPINDONZ9"
      },
      "source": [
        "<h3>Distribución exponencial</h3>\n",
        "\n",
        "La distribución exponencial es un caso especial de la distribución gamma con k = 1. Además la suma de variables aleatorias que siguen una misma distribución exponencial es una variable aleatoria expresable en términos de la distribución gamma."
      ]
    },
    {
      "cell_type": "code",
      "metadata": {
        "id": "RU3r7HgoOhJ-",
        "outputId": "0296e2dd-6f92-4a38-f466-bdfb537a079e",
        "colab": {
          "base_uri": "https://localhost:8080/",
          "height": 471
        }
      },
      "source": [
        "##EJEMPLO\n",
        "\n",
        "## Para P(X > 15) = e^(−3/2)\n",
        "\n",
        "pexp(15,rate=1/10, lower.tail = FALSE)\n",
        "\n",
        "## para P(X > 15 | X > 10) = P(X > 5)\n",
        "\n",
        "pexp(5,rate=1/10,lower.tail = FALSE)\n",
        "\n",
        "\n",
        "##podemos graficar el ejemplo anterior por medio de:\n",
        "x <- seq(0, 8, 0.1)\n",
        "\n",
        "plot(x, dexp(x, 1),type=\"l\", col = \"red\", lty = 1)\n",
        "\n"
      ],
      "execution_count": 93,
      "outputs": [
        {
          "output_type": "display_data",
          "data": {
            "text/plain": [
              "[1] 0.2231302"
            ],
            "text/latex": "0.22313016014843",
            "text/markdown": "0.22313016014843",
            "text/html": [
              "0.22313016014843"
            ]
          },
          "metadata": {
            "tags": []
          }
        },
        {
          "output_type": "display_data",
          "data": {
            "text/plain": [
              "[1] 0.6065307"
            ],
            "text/latex": "0.606530659712633",
            "text/markdown": "0.606530659712633",
            "text/html": [
              "0.606530659712633"
            ]
          },
          "metadata": {
            "tags": []
          }
        },
        {
          "output_type": "display_data",
          "data": {
            "image/png": "[encoded data removed]",
            "text/plain": [
              "plot without title"
            ]
          },
          "metadata": {
            "tags": [],
            "image/png": {
              "width": 420,
              "height": 420
            }
          }
        }
      ]
    },
    {
      "cell_type": "markdown",
      "metadata": {
        "id": "8VZ9tUO2XAA4"
      },
      "source": [
        "<H2>Visualización de datos</H2>\n",
        "\n",
        "<H3>Dataframes</h3>"
      ]
    },
    {
      "cell_type": "code",
      "metadata": {
        "id": "RZU4w1FHiS8y"
      },
      "source": [
        ""
      ],
      "execution_count": null,
      "outputs": []
    }
  ]
}