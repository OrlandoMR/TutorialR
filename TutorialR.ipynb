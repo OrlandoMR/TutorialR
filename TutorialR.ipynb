{
  "nbformat": 4,
  "nbformat_minor": 0,
  "metadata": {
    "colab": {
      "name": "TutorialR.ipynb",
      "provenance": [],
      "include_colab_link": true
    },
    "kernelspec": {
      "name": "python3",
      "display_name": "Python 3"
    }
  },
  "cells": [
    {
      "cell_type": "markdown",
      "metadata": {
        "id": "view-in-github",
        "colab_type": "text"
      },
      "source": [
        "<a href=\"https://colab.research.google.com/github/OrlandoMR/TutorialR/blob/master/TutorialR.ipynb\" target=\"_parent\"><img src=\"https://colab.research.google.com/assets/colab-badge.svg\" alt=\"Open In Colab\"/></a>"
      ]
    },
    {
      "cell_type": "code",
      "metadata": {
        "id": "mddtOfNgZv-I",
        "outputId": "ee0d57ef-05d9-4cec-97ab-316d01ed226c",
        "colab": {
          "base_uri": "https://localhost:8080/"
        }
      },
      "source": [
        "%load_ext rpy2.ipython"
      ],
      "execution_count": 6,
      "outputs": [
        {
          "output_type": "stream",
          "text": [
            "The rpy2.ipython extension is already loaded. To reload it, use:\n",
            "  %reload_ext rpy2.ipython\n"
          ],
          "name": "stdout"
        }
      ]
    },
    {
      "cell_type": "markdown",
      "metadata": {
        "id": "iDCIW1uAaO3w"
      },
      "source": [
        "<h1>Tutorial de R</h1>\n"
      ]
    },
    {
      "cell_type": "markdown",
      "metadata": {
        "id": "qLITec-naSEf"
      },
      "source": [
        "<h2>Integrantes:</h2>\n",
        "Orlando Alberto Moncada Rodriguez - 2170133 <br/>\n",
        "Juan Felipe Ortiz Trillos - 2170105<br/>\n",
        "Andres Felipe Uribe Garcia - 2160793<br/><br/><br/>"
      ]
    },
    {
      "cell_type": "markdown",
      "metadata": {
        "id": "R_uFceUksXtq"
      },
      "source": [
        "<h2><FONT COLOR=\"red\">Historia de R</FONT></h2>\n",
        "\n",
        "\n",
        "R tiene sus orígenes en S, un lenguaje de programación creado en los Laboratorios Bell de Estados Unidos. Sí, los mismos laboratorios que inventaron el transistor, el láser, el sistema operativo Unix y algunas otras cosas más.<br></br>\n",
        "R es un lenguaje relativamente joven pero que ha experimentado un crecimiento acelerado en su adopción durante los últimos 10 años. <br></br>\n",
        "En septiembre de 2017, de acuerdo al TIOBE programming community index (2017), que es uno de los índices de más prestigio en el mundo en relación popularidad en el uso de lenguajes de programación, R era el lenguaje número 11 en popularidad, después de haber sido el lenguaje número 18 en el 2016. Esto es sobresaliente si consideramos que R es un lenguaje dedicado únicamente a la estadística, mientras que lenguajes como Python (número 5 en 2017) o Java (número 1) son lenguajes que pueden ser usados para todo tipo de tareas, desde crear sitios web hasta programar robots. <br></br>\n",
        "\n",
        "\n",
        "---"
      ]
    },
    {
      "cell_type": "markdown",
      "metadata": {
        "id": "wZDF38l-tq0L"
      },
      "source": [
        "<h2><FONT COLOR=\"teal\">Estructuras de control</FONT></h2>\n",
        "\n",
        "Como su nombre lo indica, las estructuras de control nos permiten controlar la manera en que se ejecuta nuestro código.\n",
        "\n",
        "Las estructuras de control establecen condicionales en nuestros código. Por ejemplo, qué condiciones deben cumplirse para realizar una operación o qué debe ocurrir para ejecutar una función.\n",
        "\n",
        "Esto es de gran utilidad para determinar la lógica y el orden en que ocurren las operaciones, en especial al definir funciones.\n",
        "\n",
        "Las estructuras de control más usadas en R son las siguientes:\n",
        "\n",
        "\n"
      ]
    },
    {
      "cell_type": "markdown",
      "metadata": {
        "id": "05AIbupSz1Ib"
      },
      "source": [
        "\n",
        "*   if, else \n",
        "\n",
        "*   for\n",
        "\n",
        "*   while\n",
        "\n",
        "*   break\n",
        "\n",
        "*   next"
      ]
    },
    {
      "cell_type": "code",
      "metadata": {
        "id": "LFmF7xTBG3Qe",
        "outputId": "be37bdc6-da8e-4946-f1d2-af1c49856d38",
        "colab": {
          "base_uri": "https://localhost:8080/"
        }
      },
      "source": [
        "%%R\n",
        "\n",
        "if( 4 > 3)\n",
        "    \"Verdadero\"\n"
      ],
      "execution_count": 7,
      "outputs": [
        {
          "output_type": "stream",
          "text": [
            "[1] \"Verdadero\"\n"
          ],
          "name": "stdout"
        }
      ]
    },
    {
      "cell_type": "code",
      "metadata": {
        "id": "XQy8CdMkG31n"
      },
      "source": [
        ""
      ],
      "execution_count": null,
      "outputs": []
    }
  ]
}