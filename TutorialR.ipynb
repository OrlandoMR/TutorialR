{
  "nbformat": 4,
  "nbformat_minor": 0,
  "metadata": {
    "colab": {
      "name": "TutorialR.ipynb",
      "provenance": [],
      "include_colab_link": true
    },
    "kernelspec": {
      "name": "python3",
      "display_name": "Python 3"
    }
  },
  "cells": [
    {
      "cell_type": "markdown",
      "metadata": {
        "id": "view-in-github",
        "colab_type": "text"
      },
      "source": [
        "<a href=\"https://colab.research.google.com/github/OrlandoMR/TutorialR/blob/master/TutorialR.ipynb\" target=\"_parent\"><img src=\"https://colab.research.google.com/assets/colab-badge.svg\" alt=\"Open In Colab\"/></a>"
      ]
    },
    {
      "cell_type": "code",
      "metadata": {
        "id": "mddtOfNgZv-I"
      },
      "source": [
        ""
      ],
      "execution_count": null,
      "outputs": []
    },
    {
      "cell_type": "markdown",
      "metadata": {
        "id": "iDCIW1uAaO3w"
      },
      "source": [
        "**Tutorial de R**"
      ]
    },
    {
      "cell_type": "markdown",
      "metadata": {
        "id": "qLITec-naSEf"
      },
      "source": [
        "<h2>Integrantes:</h2>\n",
        "Orlando Alberto Moncada Rodriguez - 2170133 <br/>\n",
        "Juan Felipe Ortiz Trillos - 2170105<br/>\n",
        "Andres Felipe Uribe Garcia - 2160793<br/>"
      ]
    },
    {
      "cell_type": "code",
      "metadata": {
        "id": "49HVeZ4caz1q"
      },
      "source": [
        "Monkey la pussy"
      ],
      "execution_count": null,
      "outputs": []
    }
  ]
}