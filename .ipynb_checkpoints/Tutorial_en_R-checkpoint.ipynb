{
 "cells": [
  {
   "cell_type": "markdown",
   "metadata": {
    "colab_type": "text",
    "id": "view-in-github"
   },
   "source": [
    "<a href=\"https://colab.research.google.com/github/OrlandoMR/TutorialR/blob/master/Tutorial_en_R.ipynb\" target=\"_parent\"><img src=\"https://colab.research.google.com/assets/colab-badge.svg\" alt=\"Open In Colab\"/></a>"
   ]
  },
  {
   "cell_type": "markdown",
   "metadata": {
    "id": "xGqNHbW6LAYv"
   },
   "source": [
    "<h1>Tutorial de R</h1>\n"
   ]
  },
  {
   "cell_type": "markdown",
   "metadata": {
    "id": "4Oi8NtJyLEVe"
   },
   "source": [
    "<h2>Integrantes:</h2>\n",
    "Orlando Alberto Moncada Rodriguez - 2170133 <br/>\n",
    "Juan Felipe Ortiz Trillos - 2170105<br/>\n",
    "Andres Felipe Uribe Garcia - 2160793<br/><br/><br/>"
   ]
  },
  {
   "cell_type": "markdown",
   "metadata": {
    "id": "VG1I6WV-LIhd"
   },
   "source": [
    "<h2>Historia de R</h2>\n",
    "\n",
    "\n",
    "R tiene sus orígenes en S, un lenguaje de programación creado en los Laboratorios Bell de Estados Unidos. Sí, los mismos laboratorios que inventaron el transistor, el láser, el sistema operativo Unix y algunas otras cosas más.<br></br>\n",
    "R es un lenguaje relativamente joven pero que ha experimentado un crecimiento acelerado en su adopción durante los últimos 10 años. <br></br>\n",
    "En septiembre de 2017, de acuerdo al TIOBE programming community index (2017), que es uno de los índices de más prestigio en el mundo en relación popularidad en el uso de lenguajes de programación, R era el lenguaje número 11 en popularidad, después de haber sido el lenguaje número 18 en el 2016. Esto es sobresaliente si consideramos que R es un lenguaje dedicado únicamente a la estadística, mientras que lenguajes como Python (número 5 en 2017) o Java (número 1) son lenguajes que pueden ser usados para todo tipo de tareas, desde crear sitios web hasta programar robots. <br></br>\n",
    "\n",
    "\n",
    "---"
   ]
  },
  {
   "cell_type": "markdown",
   "metadata": {
    "id": "0_BXRIu8LNEd"
   },
   "source": [
    "<h2>Estructuras de control</h2>\n",
    "\n",
    "Como su nombre lo indica, las estructuras de control nos permiten controlar la manera en que se ejecuta nuestro código.\n",
    "\n",
    "Las estructuras de control establecen condicionales en nuestros código. Por ejemplo, qué condiciones deben cumplirse para realizar una operación o qué debe ocurrir para ejecutar una función.\n",
    "\n",
    "Esto es de gran utilidad para determinar la lógica y el orden en que ocurren las operaciones, en especial al definir funciones.\n",
    "\n",
    "Las estructuras de control más usadas en R son las siguientes:"
   ]
  },
  {
   "cell_type": "markdown",
   "metadata": {
    "id": "yzqVQ7hALQ9t"
   },
   "source": [
    "\n",
    "*   <h2>if, else</h2>\n",
    "\n",
    "El modelo para un if es\n",
    "\n",
    "```\n",
    "if(Condición) {\n",
    "  operaciones_si_la_condición_es_TRUE\n",
    "}\n",
    "```\n",
    "\n",
    "Si la condición se cumple, es decir, es verdadera (TRUE), entonces se realizan las operaciones. En caso contrario, no ocurre nada y el código con las operaciones no es ejecutado. Se pueden quitar los corchetes e igualmente ejecuta el *if*\n",
    "\n",
    "Por ejemplo, le pedimos a R que nos muestre el texto “Verdadero” si la condición se cumple"
   ]
  },
  {
   "cell_type": "code",
   "execution_count": 1,
   "metadata": {
    "colab": {
     "base_uri": "https://localhost:8080/",
     "height": 34
    },
    "id": "EkjzgR7ILV1c",
    "outputId": "1a011a89-3c60-4fbe-c79e-09fcf2ac36c2"
   },
   "outputs": [
    {
     "data": {
      "text/html": [
       "'Verdadero'"
      ],
      "text/latex": [
       "'Verdadero'"
      ],
      "text/markdown": [
       "'Verdadero'"
      ],
      "text/plain": [
       "[1] \"Verdadero\""
      ]
     },
     "metadata": {},
     "output_type": "display_data"
    }
   ],
   "source": [
    "\n",
    "if( 4 > 3)\n",
    "    \"Verdadero\""
   ]
  },
  {
   "cell_type": "markdown",
   "metadata": {
    "id": "fT2dsK3tLWLE"
   },
   "source": [
    "***else*** complementa un ***if***, pues indica qué ocurrirá cuando la condición no se cumple, es falsa (FALSE), en lugar de no hacer nada."
   ]
  },
  {
   "cell_type": "code",
   "execution_count": 2,
   "metadata": {
    "colab": {
     "base_uri": "https://localhost:8080/",
     "height": 34
    },
    "id": "9P0ad9KTLW3E",
    "outputId": "2b398fd1-6b61-4e36-b8c1-1c044cf377f0"
   },
   "outputs": [
    {
     "data": {
      "text/html": [
       "'Falso'"
      ],
      "text/latex": [
       "'Falso'"
      ],
      "text/markdown": [
       "'Falso'"
      ],
      "text/plain": [
       "[1] \"Falso\""
      ]
     },
     "metadata": {},
     "output_type": "display_data"
    }
   ],
   "source": [
    "# No se cumple la condición y se muestra \"Falso\"\n",
    "if(4 > 5) \n",
    "{\n",
    "  \"Verdadero\"\n",
    "} else {\n",
    "    \"Falso\"\n",
    "  }"
   ]
  },
  {
   "cell_type": "markdown",
   "metadata": {
    "id": "phgyGhMXdZ2j"
   },
   "source": [
    "La función ***ifelse( )*** nos permite vectorizar if, else. En lugar de escribir una línea de código para cada comparación, podemos usar una sola llamada a esta función, que se aplicará a todos los elementos de un vector.</br>\n",
    "\n",
    "Por ejemplo, pedimos sólo los números que son exactamente divisibles entre 2 y 3."
   ]
  },
  {
   "cell_type": "code",
   "execution_count": 3,
   "metadata": {
    "id": "dRET9W6FdeZb"
   },
   "outputs": [
    {
     "data": {
      "text/html": [
       "<style>\n",
       ".list-inline {list-style: none; margin:0; padding: 0}\n",
       ".list-inline>li {display: inline-block}\n",
       ".list-inline>li:not(:last-child)::after {content: \"\\00b7\"; padding: 0 .5ex}\n",
       "</style>\n",
       "<ol class=list-inline><li>'No divisible'</li><li>'No divisible'</li><li>'No divisible'</li><li>'No divisible'</li><li>'No divisible'</li><li>'Divisible'</li><li>'No divisible'</li><li>'No divisible'</li><li>'No divisible'</li><li>'No divisible'</li><li>'No divisible'</li><li>'Divisible'</li><li>'No divisible'</li><li>'No divisible'</li><li>'No divisible'</li><li>'No divisible'</li><li>'No divisible'</li><li>'Divisible'</li><li>'No divisible'</li><li>'No divisible'</li></ol>\n"
      ],
      "text/latex": [
       "\\begin{enumerate*}\n",
       "\\item 'No divisible'\n",
       "\\item 'No divisible'\n",
       "\\item 'No divisible'\n",
       "\\item 'No divisible'\n",
       "\\item 'No divisible'\n",
       "\\item 'Divisible'\n",
       "\\item 'No divisible'\n",
       "\\item 'No divisible'\n",
       "\\item 'No divisible'\n",
       "\\item 'No divisible'\n",
       "\\item 'No divisible'\n",
       "\\item 'Divisible'\n",
       "\\item 'No divisible'\n",
       "\\item 'No divisible'\n",
       "\\item 'No divisible'\n",
       "\\item 'No divisible'\n",
       "\\item 'No divisible'\n",
       "\\item 'Divisible'\n",
       "\\item 'No divisible'\n",
       "\\item 'No divisible'\n",
       "\\end{enumerate*}\n"
      ],
      "text/markdown": [
       "1. 'No divisible'\n",
       "2. 'No divisible'\n",
       "3. 'No divisible'\n",
       "4. 'No divisible'\n",
       "5. 'No divisible'\n",
       "6. 'Divisible'\n",
       "7. 'No divisible'\n",
       "8. 'No divisible'\n",
       "9. 'No divisible'\n",
       "10. 'No divisible'\n",
       "11. 'No divisible'\n",
       "12. 'Divisible'\n",
       "13. 'No divisible'\n",
       "14. 'No divisible'\n",
       "15. 'No divisible'\n",
       "16. 'No divisible'\n",
       "17. 'No divisible'\n",
       "18. 'Divisible'\n",
       "19. 'No divisible'\n",
       "20. 'No divisible'\n",
       "\n",
       "\n"
      ],
      "text/plain": [
       " [1] \"No divisible\" \"No divisible\" \"No divisible\" \"No divisible\" \"No divisible\"\n",
       " [6] \"Divisible\"    \"No divisible\" \"No divisible\" \"No divisible\" \"No divisible\"\n",
       "[11] \"No divisible\" \"Divisible\"    \"No divisible\" \"No divisible\" \"No divisible\"\n",
       "[16] \"No divisible\" \"No divisible\" \"Divisible\"    \"No divisible\" \"No divisible\""
      ]
     },
     "metadata": {},
     "output_type": "display_data"
    }
   ],
   "source": [
    "num <- 1:20\n",
    "\n",
    "ifelse(num %% 2 == 0 & num %% 3 == 0, \"Divisible\", \"No divisible\")"
   ]
  },
  {
   "cell_type": "markdown",
   "metadata": {
    "id": "W1msvmNRdgUC"
   },
   "source": [
    "<br></br> \n",
    "\n",
    "*   <h2>for</h2>\n",
    "\n",
    "La estructura for nos permite ejecutar un bucle (loop), realizando una operación para cada elemento de un conjunto de datos.\n",
    "\n",
    "Su estructura es la siguiente:\n",
    "\n",
    "```\n",
    "for(elemento in objeto) {\n",
    "  operacion_con_elemento\n",
    "}\n",
    "```"
   ]
  },
  {
   "cell_type": "markdown",
   "metadata": {
    "id": "LiOG2rtFdhWM"
   },
   "source": [
    "usar **print()** sólo mostrará los resultados de las operaciones en la consola, no los asignará a un objeto.\n",
    "\n",
    "Si deseamos asignar los resultados de un bucle **for** a un objeto, usamos índices.\n",
    "\n",
    "Aprovechamos que el primer elemento en un bucle siempre es identificado con el número 1 y que continuará realizando operaciones hasta llegar al total de elementos que hemos especificado."
   ]
  },
  {
   "cell_type": "code",
   "execution_count": 4,
   "metadata": {
    "colab": {
     "base_uri": "https://localhost:8080/"
    },
    "id": "wx7PapTMdtds",
    "outputId": "3f9f2785-f9ea-4640-9864-8c573505a05f"
   },
   "outputs": [
    {
     "name": "stdout",
     "output_type": "stream",
     "text": [
      "[1] 1\n",
      "[1] 2\n",
      "[1] 3\n",
      "[1] 4\n",
      "[1] 5\n",
      "[1] 6\n",
      "[1] 7\n",
      "[1] 8\n",
      "[1] 9\n",
      "[1] 10\n"
     ]
    }
   ],
   "source": [
    "for(numero in 1:10) {\n",
    "  print(numero)\n",
    "}"
   ]
  },
  {
   "cell_type": "markdown",
   "metadata": {
    "id": "KSWu7dRoeM54"
   },
   "source": [
    "<br></br> \n",
    "\n",
    "*   <h2>while</h2>\n",
    "\n",
    "Este es un tipo de bucle que ocurre mientras una condición es verdadera (TRUE). La operación se realiza hasta que se se llega a cumplir un criterio previamente establecido.\n",
    "\n",
    "El modelo de while es:\n",
    "\n",
    "\n",
    "\n",
    "```\n",
    "while(condicion) {\n",
    "  operaciones\n",
    "}\n",
    "```\n",
    "\n",
    "Para obtener números al azar del 1 al 10, usamos la función sample(). Esta función va a tomar una muestra al azar de tamaño igual a 1 (argumento size) de un vector del 1 al 10 (argumento x) cada vez que se ejecute.\n",
    "\n",
    "Por lo tanto, cada vez que corras el ejemplo siguiente obtendrás un resultado distinto, pero siempre llegarás a un valor mayor a 50.\n",
    "\n",
    "Creamos dos objetos, conteo y valor. Les asignamos el valor 0.\n",
    "\n",
    "Nuestro while hará dos cosas.\n",
    "\n",
    "Primero, tomará un número al azar del 1 al 10, y lo sumará a valor. Segundo, le sumará 1 a conteo cada que esto ocurra, de esta manera sabremos cuántas iteraciones ocurrieron para llegar a un valor que no sea menor a 50."
   ]
  },
  {
   "cell_type": "code",
   "execution_count": 5,
   "metadata": {
    "colab": {
     "base_uri": "https://localhost:8080/"
    },
    "id": "mSWApdnreWOZ",
    "outputId": "c45099b7-fe31-4cf5-dd0b-74fa9b829fc6"
   },
   "outputs": [
    {
     "name": "stdout",
     "output_type": "stream",
     "text": [
      "valor:  3 \n",
      "valor:  8 \n",
      "valor:  9 \n",
      "valor:  13 \n",
      "valor:  23 \n",
      "valor:  26 \n",
      "valor:  36 \n",
      "valor:  44 \n",
      "valor:  48 \n",
      "valor:  52 \n",
      "Conteo:  10"
     ]
    }
   ],
   "source": [
    "conteo <-  0\n",
    "valor <- 0\n",
    "\n",
    "while(valor < 50) {\n",
    "  valor <- valor + sample(x = 1:10, size = 1)\n",
    "  conteo <- conteo + 1\n",
    "  cat(\"valor: \", valor, \"\\n\")\n",
    "}\n",
    "cat(\"Conteo: \", conteo)"
   ]
  },
  {
   "cell_type": "markdown",
   "metadata": {
    "id": "r8u3P3VJnJfL"
   },
   "source": [
    "<br></br> \n",
    "\n",
    "*   <h2>break</h2>\n",
    "\n",
    "Para interrumpir un bucle con break, necesitamos que se cumpla una condición. Cuando esto ocurre, el bucle se detiene, aunque existan elementos a los cuales aún podría aplicarse.\n",
    "\n",
    "Interrumpimos un for cuando i es igual a 6, aunque aún queden 4 elementos en el objeto."
   ]
  },
  {
   "cell_type": "code",
   "execution_count": 6,
   "metadata": {
    "colab": {
     "base_uri": "https://localhost:8080/"
    },
    "id": "IPbdf0YUnXuR",
    "outputId": "22c16e4d-91cf-4725-e1db-9cf7d2e045c8"
   },
   "outputs": [
    {
     "name": "stdout",
     "output_type": "stream",
     "text": [
      "[1] 1\n",
      "[1] 2\n",
      "[1] 3\n",
      "[1] 4\n",
      "[1] 5\n",
      "[1] 6\n"
     ]
    }
   ],
   "source": [
    "for(i in 1:10) \n",
    "{\n",
    "  print(i)\n",
    "  if(i == 6) {\n",
    "    break\n",
    "  }\n",
    "}"
   ]
  },
  {
   "cell_type": "markdown",
   "metadata": {
    "id": "1VZuzMiSoFos"
   },
   "source": [
    "<br></br> \n",
    "\n",
    "*   <h2>next</h2>\n",
    "\n",
    "Por su parte, usamos next para “saltarnos” una iteración en un bucle. Cuando la condición se cumple, esa iteración es omitida."
   ]
  },
  {
   "cell_type": "code",
   "execution_count": 7,
   "metadata": {
    "colab": {
     "base_uri": "https://localhost:8080/"
    },
    "id": "c2TxayI5oLyS",
    "outputId": "485cb06f-eb4a-422d-f469-f1a68dec1485"
   },
   "outputs": [
    {
     "name": "stdout",
     "output_type": "stream",
     "text": [
      "[1] 1\n",
      "[1] 2\n",
      "[1] 4\n"
     ]
    }
   ],
   "source": [
    "for(i in 1:4) {\n",
    "  if(i == 3) {\n",
    "    next\n",
    "  }\n",
    "  print(i)\n",
    "}"
   ]
  },
  {
   "cell_type": "markdown",
   "metadata": {
    "id": "XiCtSP_boaFL"
   },
   "source": [
    "Estas dos *estructuras de contro*l nos dan un control fino sobre nuestro código. aunque los dos ejemplos de arriba son con **for**, también funcionan con **while** y **repeat**.\n",
    "\n",
    "En realidad, **break** es indispensable para **repeat**."
   ]
  },
  {
   "cell_type": "markdown",
   "metadata": {
    "id": "cYGEyCxCojyT"
   },
   "source": [
    "<br></br> \n",
    "\n",
    "*   <h2>repeat</h2>\n",
    "\n",
    "Este es un bucle que se llevará a cabo el número de veces que especifiquemos, usando un break para detenerse. repeat asegura que las operaciones que contiene sean iteradas al menos en una ocasión.\n",
    "\n",
    "La estructura de repeat es el siguiente:\n",
    "\n",
    "\n",
    "\n",
    "```\n",
    "repeat {\n",
    "  operaciones\n",
    "  \n",
    "  un_break_para_detener\n",
    "}\n",
    "```\n",
    "\n",
    "Por ejemplo, el siguiente repeat sumará +1 a valor hasta que este sea igual a cinco, entonces se detendrá."
   ]
  },
  {
   "cell_type": "code",
   "execution_count": 8,
   "metadata": {
    "colab": {
     "base_uri": "https://localhost:8080/"
    },
    "id": "-tubbkSUo3PT",
    "outputId": "4dc4537d-e712-4669-d0a8-4e1d19eb7b61"
   },
   "outputs": [
    {
     "name": "stdout",
     "output_type": "stream",
     "text": [
      "valor:  5"
     ]
    }
   ],
   "source": [
    "valor <-  0\n",
    "mi_vector <- NULL\n",
    "\n",
    "repeat{\n",
    "  valor <- valor + 1\n",
    "  if(valor == 5) {\n",
    "    break\n",
    "  }\n",
    "}\n",
    "\n",
    "# Resultado\n",
    "cat(\"valor: \" ,valor)"
   ]
  },
  {
   "cell_type": "markdown",
   "metadata": {
    "id": "52fzrxHDpXt1"
   },
   "source": [
    "Este tipo de bucle es quizás el menos utilizado de todos, pues en **R** existen alternativas para obtener los mismos resultados de manera más sencilla y sin el riesgo de crear un bucle infinito. Sin embargo, puede ser la mejor alternativa para problemas específicos."
   ]
  },
  {
   "cell_type": "markdown",
   "metadata": {
    "id": "iBnXtoB0opo6"
   },
   "source": [
    "<br></br>\n",
    "\n",
    "<h2>Vectores</h2>\n",
    "\n",
    "Un vector es la estructura de datos más sencilla en R. Un vector es una colección de uno o más datos del mismo tipo.\n",
    "\n",
    "Todos los vectores tienen tres propiedades:\n",
    "\n",
    "\n",
    "*   ***Tipo.*** Un vector tiene el mismo tipo que los datos que contiene. Si tenemos un vector que contiene datos de tipo numérico, el vector será también de tipo numérico. Los vectores son atómicos, pues sólo pueden contener datos de un sólo tipo, no es posible mezclar datos de tipos diferentes dentro de ellos.\n",
    "\n",
    "\n",
    "*   ***Largo.*** Es el número de elementos que contiene un vector. El largo es la única dimensión que tiene esta estructura de datos.\n",
    "\n",
    "\n",
    "*   ***Atributos.*** Los vectores pueden tener metadatos de muchos tipos, los cuales describen características de los datos que contienen. Todos ellos son incluidos en esta propiedad. En este libro no se usarán vectores con metadatos, por ser una propiedad con usos van más allá del alcance de este libro.\n",
    "\n",
    "\n",
    "Cuando una estructura únicamente puede contener datos de un sólo tipo, como es el caso de los vectores, decimos que es homogénea, pero no implica que necesariamente sea atómica.\n",
    "\n",
    "Como los vectores son la estructura de datos más sencilla de R, datos simples como el número 3, son en realidad vectores. En este caso, un vector de tipo numérico y largo igual a 1."
   ]
  },
  {
   "cell_type": "code",
   "execution_count": 9,
   "metadata": {
    "colab": {
     "base_uri": "https://localhost:8080/",
     "height": 51
    },
    "id": "-zZ94pQRoxan",
    "outputId": "2df9bd45-1d9c-476b-e048-bfb916106cca"
   },
   "outputs": [
    {
     "data": {
      "text/html": [
       "TRUE"
      ],
      "text/latex": [
       "TRUE"
      ],
      "text/markdown": [
       "TRUE"
      ],
      "text/plain": [
       "[1] TRUE"
      ]
     },
     "metadata": {},
     "output_type": "display_data"
    },
    {
     "name": "stdout",
     "output_type": "stream",
     "text": [
      "Número de elementos del vector:  1"
     ]
    }
   ],
   "source": [
    "is.vector(3);\n",
    "cat(\"Número de elementos del vector: \",length(3))"
   ]
  },
  {
   "cell_type": "markdown",
   "metadata": {
    "id": "mneXZAUWo2AC"
   },
   "source": [
    "<h2>Creación de vectores</h2>\n",
    "\n",
    "Creamos vectores usando la función c() (combinar).\n",
    "\n",
    "Llamamos esta función y le damos como argumento los elementos que deseamos combinar en un vector, separados por comas."
   ]
  },
  {
   "cell_type": "code",
   "execution_count": 10,
   "metadata": {
    "colab": {
     "base_uri": "https://localhost:8080/",
     "height": 68
    },
    "id": "k8587ZQ9pBc6",
    "outputId": "0d63afc9-262f-4def-ed6a-0ff2231cbe60"
   },
   "outputs": [
    {
     "data": {
      "text/html": [
       "<style>\n",
       ".list-inline {list-style: none; margin:0; padding: 0}\n",
       ".list-inline>li {display: inline-block}\n",
       ".list-inline>li:not(:last-child)::after {content: \"\\00b7\"; padding: 0 .5ex}\n",
       "</style>\n",
       "<ol class=list-inline><li>1</li><li>2</li><li>3</li><li>5</li><li>8</li><li>13</li><li>21</li></ol>\n"
      ],
      "text/latex": [
       "\\begin{enumerate*}\n",
       "\\item 1\n",
       "\\item 2\n",
       "\\item 3\n",
       "\\item 5\n",
       "\\item 8\n",
       "\\item 13\n",
       "\\item 21\n",
       "\\end{enumerate*}\n"
      ],
      "text/markdown": [
       "1. 1\n",
       "2. 2\n",
       "3. 3\n",
       "4. 5\n",
       "5. 8\n",
       "6. 13\n",
       "7. 21\n",
       "\n",
       "\n"
      ],
      "text/plain": [
       "[1]  1  2  3  5  8 13 21"
      ]
     },
     "metadata": {},
     "output_type": "display_data"
    },
    {
     "data": {
      "text/html": [
       "<style>\n",
       ".list-inline {list-style: none; margin:0; padding: 0}\n",
       ".list-inline>li {display: inline-block}\n",
       ".list-inline>li:not(:last-child)::after {content: \"\\00b7\"; padding: 0 .5ex}\n",
       "</style>\n",
       "<ol class=list-inline><li>'arbol'</li><li>'casa'</li><li>'persona'</li></ol>\n"
      ],
      "text/latex": [
       "\\begin{enumerate*}\n",
       "\\item 'arbol'\n",
       "\\item 'casa'\n",
       "\\item 'persona'\n",
       "\\end{enumerate*}\n"
      ],
      "text/markdown": [
       "1. 'arbol'\n",
       "2. 'casa'\n",
       "3. 'persona'\n",
       "\n",
       "\n"
      ],
      "text/plain": [
       "[1] \"arbol\"   \"casa\"    \"persona\""
      ]
     },
     "metadata": {},
     "output_type": "display_data"
    },
    {
     "data": {
      "text/html": [
       "<style>\n",
       ".list-inline {list-style: none; margin:0; padding: 0}\n",
       ".list-inline>li {display: inline-block}\n",
       ".list-inline>li:not(:last-child)::after {content: \"\\00b7\"; padding: 0 .5ex}\n",
       "</style>\n",
       "<ol class=list-inline><li>TRUE</li><li>TRUE</li><li>FALSE</li><li>FALSE</li><li>TRUE</li></ol>\n"
      ],
      "text/latex": [
       "\\begin{enumerate*}\n",
       "\\item TRUE\n",
       "\\item TRUE\n",
       "\\item FALSE\n",
       "\\item FALSE\n",
       "\\item TRUE\n",
       "\\end{enumerate*}\n"
      ],
      "text/markdown": [
       "1. TRUE\n",
       "2. TRUE\n",
       "3. FALSE\n",
       "4. FALSE\n",
       "5. TRUE\n",
       "\n",
       "\n"
      ],
      "text/plain": [
       "[1]  TRUE  TRUE FALSE FALSE  TRUE"
      ]
     },
     "metadata": {},
     "output_type": "display_data"
    }
   ],
   "source": [
    "# Vector numérico\n",
    "c(1, 2, 3, 5, 8, 13, 21)\n",
    "\n",
    "# Vector de cadena de texto\n",
    "c(\"arbol\", \"casa\", \"persona\")\n",
    "\n",
    "# Vector lógico\n",
    "c(TRUE, TRUE, FALSE, FALSE, TRUE)"
   ]
  },
  {
   "cell_type": "markdown",
   "metadata": {
    "id": "cCC5-OyrrIsC"
   },
   "source": [
    "<h2>Manipulación</h2>"
   ]
  },
  {
   "cell_type": "markdown",
   "metadata": {
    "id": "I945Ge1EpX5h"
   },
   "source": [
    "Si deseamos agregar un elemento a un vector ya existente, podemos hacerlo combinando nuestro vector original con los elementos nuevos y asignando el resultado a nuestro vector original."
   ]
  },
  {
   "cell_type": "code",
   "execution_count": 11,
   "metadata": {
    "colab": {
     "base_uri": "https://localhost:8080/",
     "height": 34
    },
    "id": "c-SHVexxpapC",
    "outputId": "0de9f699-4e9e-4e3b-8932-b52247d13465"
   },
   "outputs": [
    {
     "data": {
      "text/html": [
       "<style>\n",
       ".list-inline {list-style: none; margin:0; padding: 0}\n",
       ".list-inline>li {display: inline-block}\n",
       ".list-inline>li:not(:last-child)::after {content: \"\\00b7\"; padding: 0 .5ex}\n",
       "</style>\n",
       "<ol class=list-inline><li>TRUE</li><li>FALSE</li><li>TRUE</li><li>FALSE</li></ol>\n"
      ],
      "text/latex": [
       "\\begin{enumerate*}\n",
       "\\item TRUE\n",
       "\\item FALSE\n",
       "\\item TRUE\n",
       "\\item FALSE\n",
       "\\end{enumerate*}\n"
      ],
      "text/markdown": [
       "1. TRUE\n",
       "2. FALSE\n",
       "3. TRUE\n",
       "4. FALSE\n",
       "\n",
       "\n"
      ],
      "text/plain": [
       "[1]  TRUE FALSE  TRUE FALSE"
      ]
     },
     "metadata": {},
     "output_type": "display_data"
    }
   ],
   "source": [
    "vec <- c(TRUE, FALSE, TRUE)\n",
    "vec <- c(vec, FALSE)\n",
    "vec"
   ]
  },
  {
   "cell_type": "markdown",
   "metadata": {
    "id": "P4qrAYA-pn1R"
   },
   "source": [
    "Podemos crear vectores que son combinación de vectores."
   ]
  },
  {
   "cell_type": "code",
   "execution_count": 12,
   "metadata": {
    "colab": {
     "base_uri": "https://localhost:8080/"
    },
    "id": "m5TSi2GLpqaR",
    "outputId": "cd174973-e840-451e-c75b-bb8629b65116"
   },
   "outputs": [
    {
     "name": "stdout",
     "output_type": "stream",
     "text": [
      "Los elementos de la combinación de vectores son:  1 3 5 2 4 6"
     ]
    }
   ],
   "source": [
    "vec1 <- c(1, 3, 5)\n",
    "vec2 <- c(2, 4, 6)\n",
    "\n",
    "vec3 <- c(vec1, vec2)\n",
    "cat(\"Los elementos de la combinación de vectores son: \",vec3)"
   ]
  },
  {
   "cell_type": "markdown",
   "metadata": {
    "id": "zOYhpjSJqA-q"
   },
   "source": [
    "Si intentamos combinar datos de diferentes tipos en un mismo vector, R realizará coerción automáticamente. El vector resultante será del tipo más flexible entre los datos que contenga, siguiendo las reglas de coerción."
   ]
  },
  {
   "cell_type": "code",
   "execution_count": 13,
   "metadata": {
    "colab": {
     "base_uri": "https://localhost:8080/"
    },
    "id": "RYLmk-WjqHhC",
    "outputId": "ca557368-f152-4a81-8af5-0e1b8f8e87fb"
   },
   "outputs": [
    {
     "name": "stdout",
     "output_type": "stream",
     "text": [
      "La clase de mi vector combinado es:  character"
     ]
    }
   ],
   "source": [
    "vec_comb <- c(vec1, \"números\")\n",
    "cat(\"La clase de mi vector combinado es: \", class(vec_comb))"
   ]
  },
  {
   "cell_type": "markdown",
   "metadata": {
    "id": "uydaXfT6qtGs"
   },
   "source": [
    "Como las cadenas de **texto** son el tipo de dato más flexible, siempre que creamos un vector que incluye un dato de este **tipo**, el resultado será un vector de texto."
   ]
  },
  {
   "cell_type": "markdown",
   "metadata": {
    "id": "CeV5Kkq4q4fK"
   },
   "source": [
    "Por ejemplo, creamos una secuencia del 1 al 10"
   ]
  },
  {
   "cell_type": "code",
   "execution_count": 14,
   "metadata": {
    "colab": {
     "base_uri": "https://localhost:8080/",
     "height": 34
    },
    "id": "r2ATsX_dq3_I",
    "outputId": "c5385cfa-d309-49ec-8884-f98d9b56eddb"
   },
   "outputs": [
    {
     "data": {
      "text/html": [
       "<style>\n",
       ".list-inline {list-style: none; margin:0; padding: 0}\n",
       ".list-inline>li {display: inline-block}\n",
       ".list-inline>li:not(:last-child)::after {content: \"\\00b7\"; padding: 0 .5ex}\n",
       "</style>\n",
       "<ol class=list-inline><li>1</li><li>2</li><li>3</li><li>4</li><li>5</li><li>6</li><li>7</li><li>8</li><li>9</li><li>10</li></ol>\n"
      ],
      "text/latex": [
       "\\begin{enumerate*}\n",
       "\\item 1\n",
       "\\item 2\n",
       "\\item 3\n",
       "\\item 4\n",
       "\\item 5\n",
       "\\item 6\n",
       "\\item 7\n",
       "\\item 8\n",
       "\\item 9\n",
       "\\item 10\n",
       "\\end{enumerate*}\n"
      ],
      "text/markdown": [
       "1. 1\n",
       "2. 2\n",
       "3. 3\n",
       "4. 4\n",
       "5. 5\n",
       "6. 6\n",
       "7. 7\n",
       "8. 8\n",
       "9. 9\n",
       "10. 10\n",
       "\n",
       "\n"
      ],
      "text/plain": [
       " [1]  1  2  3  4  5  6  7  8  9 10"
      ]
     },
     "metadata": {},
     "output_type": "display_data"
    }
   ],
   "source": [
    "1:10"
   ]
  },
  {
   "cell_type": "markdown",
   "metadata": {
    "id": "OdVeSDQmq8mk"
   },
   "source": [
    "Las secuencias creadas con : son consecutivas con incrementos o decrementos de 1. Estas secuencias pueden empezar con cualquier número, incluso si este es negativo o tiene cifras decimales"
   ]
  },
  {
   "cell_type": "code",
   "execution_count": 15,
   "metadata": {
    "colab": {
     "base_uri": "https://localhost:8080/",
     "height": 34
    },
    "id": "n-qYgPVlq_Nq",
    "outputId": "19cc43c2-e0d7-41ce-b5cc-78525f3639fd"
   },
   "outputs": [
    {
     "data": {
      "text/html": [
       "<style>\n",
       ".list-inline {list-style: none; margin:0; padding: 0}\n",
       ".list-inline>li {display: inline-block}\n",
       ".list-inline>li:not(:last-child)::after {content: \"\\00b7\"; padding: 0 .5ex}\n",
       "</style>\n",
       "<ol class=list-inline><li>67.23</li><li>68.23</li><li>69.23</li><li>70.23</li><li>71.23</li><li>72.23</li><li>73.23</li><li>74.23</li></ol>\n"
      ],
      "text/latex": [
       "\\begin{enumerate*}\n",
       "\\item 67.23\n",
       "\\item 68.23\n",
       "\\item 69.23\n",
       "\\item 70.23\n",
       "\\item 71.23\n",
       "\\item 72.23\n",
       "\\item 73.23\n",
       "\\item 74.23\n",
       "\\end{enumerate*}\n"
      ],
      "text/markdown": [
       "1. 67.23\n",
       "2. 68.23\n",
       "3. 69.23\n",
       "4. 70.23\n",
       "5. 71.23\n",
       "6. 72.23\n",
       "7. 73.23\n",
       "8. 74.23\n",
       "\n",
       "\n"
      ],
      "text/plain": [
       "[1] 67.23 68.23 69.23 70.23 71.23 72.23 73.23 74.23"
      ]
     },
     "metadata": {},
     "output_type": "display_data"
    }
   ],
   "source": [
    "# Número con cifras decimales\n",
    "67.23:75"
   ]
  },
  {
   "cell_type": "markdown",
   "metadata": {
    "id": "dDo-4sTmrE3i"
   },
   "source": [
    "Si nuestro número de inicio tiene cifras decimales, estas serán respetadas al hacer los incrementos o decrementos de uno en uno. En contraste, si es nuestro número de final el que tiene cifras decimales, este será redondeado."
   ]
  },
  {
   "cell_type": "code",
   "execution_count": 16,
   "metadata": {
    "colab": {
     "base_uri": "https://localhost:8080/",
     "height": 51
    },
    "id": "B9cAf6SZrfAL",
    "outputId": "eb2788d7-f735-40db-d9ca-a1c45dfabe8c"
   },
   "outputs": [
    {
     "data": {
      "text/html": [
       "<style>\n",
       ".list-inline {list-style: none; margin:0; padding: 0}\n",
       ".list-inline>li {display: inline-block}\n",
       ".list-inline>li:not(:last-child)::after {content: \"\\00b7\"; padding: 0 .5ex}\n",
       "</style>\n",
       "<ol class=list-inline><li>-2.5</li><li>-1.5</li><li>-0.5</li><li>0.5</li><li>1.5</li></ol>\n"
      ],
      "text/latex": [
       "\\begin{enumerate*}\n",
       "\\item -2.5\n",
       "\\item -1.5\n",
       "\\item -0.5\n",
       "\\item 0.5\n",
       "\\item 1.5\n",
       "\\end{enumerate*}\n"
      ],
      "text/markdown": [
       "1. -2.5\n",
       "2. -1.5\n",
       "3. -0.5\n",
       "4. 0.5\n",
       "5. 1.5\n",
       "\n",
       "\n"
      ],
      "text/plain": [
       "[1] -2.5 -1.5 -0.5  0.5  1.5"
      ]
     },
     "metadata": {},
     "output_type": "display_data"
    },
    {
     "data": {
      "text/html": [
       "<style>\n",
       ".list-inline {list-style: none; margin:0; padding: 0}\n",
       ".list-inline>li {display: inline-block}\n",
       ".list-inline>li:not(:last-child)::after {content: \"\\00b7\"; padding: 0 .5ex}\n",
       "</style>\n",
       "<ol class=list-inline><li>166</li><li>167</li><li>168</li><li>169</li><li>170</li></ol>\n"
      ],
      "text/latex": [
       "\\begin{enumerate*}\n",
       "\\item 166\n",
       "\\item 167\n",
       "\\item 168\n",
       "\\item 169\n",
       "\\item 170\n",
       "\\end{enumerate*}\n"
      ],
      "text/markdown": [
       "1. 166\n",
       "2. 167\n",
       "3. 168\n",
       "4. 169\n",
       "5. 170\n",
       "\n",
       "\n"
      ],
      "text/plain": [
       "[1] 166 167 168 169 170"
      ]
     },
     "metadata": {},
     "output_type": "display_data"
    }
   ],
   "source": [
    "# Se conservan los decimales del inicio\n",
    "-2.50:2\n",
    "\n",
    "# Se redondean los decimales del final\n",
    "166:170.05"
   ]
  },
  {
   "cell_type": "markdown",
   "metadata": {
    "id": "npzbRfRhrzZi"
   },
   "source": [
    "Las operaciones aritméticas y relacionales pueden vectorizarse. Si las aplicamos a un vector, la operación se realizará para cada uno de los elementos que contiene. utilizaremos el vector númerico de ejemplos atrás.\n",
    "\n",
    "```\n",
    "vec1 <- c(1, 3, 5)\n",
    "```\n",
    "\n"
   ]
  },
  {
   "cell_type": "code",
   "execution_count": 17,
   "metadata": {
    "colab": {
     "base_uri": "https://localhost:8080/",
     "height": 68
    },
    "id": "CaAh3uogr0oT",
    "outputId": "59ecb9ec-23ed-49e1-8a5a-2482bc34a3b2"
   },
   "outputs": [
    {
     "data": {
      "text/html": [
       "<style>\n",
       ".list-inline {list-style: none; margin:0; padding: 0}\n",
       ".list-inline>li {display: inline-block}\n",
       ".list-inline>li:not(:last-child)::after {content: \"\\00b7\"; padding: 0 .5ex}\n",
       "</style>\n",
       "<ol class=list-inline><li>3</li><li>5</li><li>7</li></ol>\n"
      ],
      "text/latex": [
       "\\begin{enumerate*}\n",
       "\\item 3\n",
       "\\item 5\n",
       "\\item 7\n",
       "\\end{enumerate*}\n"
      ],
      "text/markdown": [
       "1. 3\n",
       "2. 5\n",
       "3. 7\n",
       "\n",
       "\n"
      ],
      "text/plain": [
       "[1] 3 5 7"
      ]
     },
     "metadata": {},
     "output_type": "display_data"
    },
    {
     "data": {
      "text/html": [
       "<style>\n",
       ".list-inline {list-style: none; margin:0; padding: 0}\n",
       ".list-inline>li {display: inline-block}\n",
       ".list-inline>li:not(:last-child)::after {content: \"\\00b7\"; padding: 0 .5ex}\n",
       "</style>\n",
       "<ol class=list-inline><li>3</li><li>9</li><li>15</li></ol>\n"
      ],
      "text/latex": [
       "\\begin{enumerate*}\n",
       "\\item 3\n",
       "\\item 9\n",
       "\\item 15\n",
       "\\end{enumerate*}\n"
      ],
      "text/markdown": [
       "1. 3\n",
       "2. 9\n",
       "3. 15\n",
       "\n",
       "\n"
      ],
      "text/plain": [
       "[1]  3  9 15"
      ]
     },
     "metadata": {},
     "output_type": "display_data"
    },
    {
     "data": {
      "text/html": [
       "<style>\n",
       ".list-inline {list-style: none; margin:0; padding: 0}\n",
       ".list-inline>li {display: inline-block}\n",
       ".list-inline>li:not(:last-child)::after {content: \"\\00b7\"; padding: 0 .5ex}\n",
       "</style>\n",
       "<ol class=list-inline><li>1</li><li>27</li><li>125</li></ol>\n"
      ],
      "text/latex": [
       "\\begin{enumerate*}\n",
       "\\item 1\n",
       "\\item 27\n",
       "\\item 125\n",
       "\\end{enumerate*}\n"
      ],
      "text/markdown": [
       "1. 1\n",
       "2. 27\n",
       "3. 125\n",
       "\n",
       "\n"
      ],
      "text/plain": [
       "[1]   1  27 125"
      ]
     },
     "metadata": {},
     "output_type": "display_data"
    }
   ],
   "source": [
    "# Operaciones aritméticas\n",
    "vec1 + 2\n",
    "\n",
    "vec1 * 3\n",
    "\n",
    "vec1 ^ 3"
   ]
  },
  {
   "cell_type": "markdown",
   "metadata": {
    "id": "cpsYOiDxsdkI"
   },
   "source": [
    "Al aplicar operaciones relacionales, obtenemos un vector de **TRUE** y **FALSE**, uno para cada elemento comparado."
   ]
  },
  {
   "cell_type": "code",
   "execution_count": 18,
   "metadata": {
    "colab": {
     "base_uri": "https://localhost:8080/",
     "height": 68
    },
    "id": "oswTyjSbsnHV",
    "outputId": "3e07787c-d6ad-4b78-c3e6-923d0fd63efe"
   },
   "outputs": [
    {
     "data": {
      "text/html": [
       "<style>\n",
       ".list-inline {list-style: none; margin:0; padding: 0}\n",
       ".list-inline>li {display: inline-block}\n",
       ".list-inline>li:not(:last-child)::after {content: \"\\00b7\"; padding: 0 .5ex}\n",
       "</style>\n",
       "<ol class=list-inline><li>FALSE</li><li>FALSE</li><li>TRUE</li></ol>\n"
      ],
      "text/latex": [
       "\\begin{enumerate*}\n",
       "\\item FALSE\n",
       "\\item FALSE\n",
       "\\item TRUE\n",
       "\\end{enumerate*}\n"
      ],
      "text/markdown": [
       "1. FALSE\n",
       "2. FALSE\n",
       "3. TRUE\n",
       "\n",
       "\n"
      ],
      "text/plain": [
       "[1] FALSE FALSE  TRUE"
      ]
     },
     "metadata": {},
     "output_type": "display_data"
    },
    {
     "data": {
      "text/html": [
       "<style>\n",
       ".list-inline {list-style: none; margin:0; padding: 0}\n",
       ".list-inline>li {display: inline-block}\n",
       ".list-inline>li:not(:last-child)::after {content: \"\\00b7\"; padding: 0 .5ex}\n",
       "</style>\n",
       "<ol class=list-inline><li>TRUE</li><li>FALSE</li><li>FALSE</li></ol>\n"
      ],
      "text/latex": [
       "\\begin{enumerate*}\n",
       "\\item TRUE\n",
       "\\item FALSE\n",
       "\\item FALSE\n",
       "\\end{enumerate*}\n"
      ],
      "text/markdown": [
       "1. TRUE\n",
       "2. FALSE\n",
       "3. FALSE\n",
       "\n",
       "\n"
      ],
      "text/plain": [
       "[1]  TRUE FALSE FALSE"
      ]
     },
     "metadata": {},
     "output_type": "display_data"
    },
    {
     "data": {
      "text/html": [
       "<style>\n",
       ".list-inline {list-style: none; margin:0; padding: 0}\n",
       ".list-inline>li {display: inline-block}\n",
       ".list-inline>li:not(:last-child)::after {content: \"\\00b7\"; padding: 0 .5ex}\n",
       "</style>\n",
       "<ol class=list-inline><li>FALSE</li><li>TRUE</li><li>FALSE</li></ol>\n"
      ],
      "text/latex": [
       "\\begin{enumerate*}\n",
       "\\item FALSE\n",
       "\\item TRUE\n",
       "\\item FALSE\n",
       "\\end{enumerate*}\n"
      ],
      "text/markdown": [
       "1. FALSE\n",
       "2. TRUE\n",
       "3. FALSE\n",
       "\n",
       "\n"
      ],
      "text/plain": [
       "[1] FALSE  TRUE FALSE"
      ]
     },
     "metadata": {},
     "output_type": "display_data"
    }
   ],
   "source": [
    "vec1 > 3\n",
    "vec1 < 3\n",
    "vec1 == 3"
   ]
  },
  {
   "cell_type": "markdown",
   "metadata": {
    "id": "igaZY_n3s1gr"
   },
   "source": [
    "Esta manera de aplicar una operación es muy eficiente. Comparada con otros procedimientos, requiere de menos tiempo de cómputo, lo cual a veces es considerable, en particular cuando trabajamos con un número grande de datos.\n",
    "\n",
    "Aunque el nombre de este proceso es **vectorización**, también funciona, en ciertas circunstancias, para otras estructuras de datos."
   ]
  },
  {
   "cell_type": "markdown",
   "metadata": {
    "id": "H_GebSWmtYyv"
   },
   "source": [
    "<h2>Diferencia entre arrays y vectores</h2>\n",
    "\n",
    "\n",
    "\n",
    "<br> Los ***arrays*** pueden contener datos de un solo tipo, pero además del largo conocido en un ***vector***, tiene más dimensiones. <br>\n",
    "Los ***arrays*** pueden tener un número arbitrario de dimensiones. Pueden ser cubos, hipercubos y otras formas. Su uso no es muy común en R, aunque a veces es deseable contar con objetos **n-dimensionales** para manipular datos. <br>\n",
    "Como los ***arrays*** tienen la restricción de que todos sus datos deben ser del mismo tipo, no importando en cuántas dimensiones se encuentren, esto limita sus usos prácticos.\n",
    "<br><br>\n",
    "Así que sus diferencias principales se basan en que los arrays no son atómicos, a diferencia de los ***vectores*** que pueden contener distintos tipos de datos y también en el tamaño de estos dos, más bien las formas que se pueden formar con uno y con otro. \n",
    "\n",
    "\n",
    "\n",
    "\n"
   ]
  },
  {
   "cell_type": "markdown",
   "metadata": {
    "id": "PO25NYs7_fsB"
   },
   "source": [
    "<br></br>\n",
    "\n",
    "<h1> Matrices</h1>\n",
    "\n",
    "Las matrices y arrays pueden ser descritas como vectores multidimensionales. Al igual que un vector, únicamente pueden contener datos de un sólo tipo, pero además de largo, tienen más dimensiones.\n",
    "\n"
   ]
  },
  {
   "cell_type": "markdown",
   "metadata": {
    "id": "2sKu610RFrAD"
   },
   "source": [
    "Para crear una matriz requerimos la funcion ` matrix() ` la cual inicializa una matriz con un rango de datos.\n",
    "\n",
    "Por ejemplo:\n",
    "\n",
    "\n",
    "\n",
    "\n",
    "\n",
    "\n",
    "\n"
   ]
  },
  {
   "cell_type": "code",
   "execution_count": 19,
   "metadata": {
    "colab": {
     "base_uri": "https://localhost:8080/"
    },
    "id": "ZKDQf7_HMYLl",
    "outputId": "d894356f-f26e-4bca-d713-2b30310f1456"
   },
   "outputs": [
    {
     "name": "stdout",
     "output_type": "stream",
     "text": [
      "      [,1]\n",
      " [1,]    1\n",
      " [2,]    2\n",
      " [3,]    3\n",
      " [4,]    4\n",
      " [5,]    5\n",
      " [6,]    6\n",
      " [7,]    7\n",
      " [8,]    8\n",
      " [9,]    9\n",
      "[10,]   10\n"
     ]
    }
   ],
   "source": [
    "a<-matrix(1:10)\n",
    "print(a)"
   ]
  },
  {
   "cell_type": "markdown",
   "metadata": {
    "id": "j1RVV4qmNO6E"
   },
   "source": [
    "Como podemos ver, es tan solo una matriz de una columna pero de 10 filas ya que debe contener valores del 1 al 10.\n",
    "\n",
    "Para cambiar la cantidad de columnas y filas agregamos 2 parametros a la funcion `matrix()` los cuales son: nrow y ncol que por logica especifican la cantidad de filas y columnas que tendra la matriz, se definen como:  `matrix(argument,nrow = int, ncol = int)` donde int es cualquier numero entero y argument es el rango de datos."
   ]
  },
  {
   "cell_type": "code",
   "execution_count": 20,
   "metadata": {
    "colab": {
     "base_uri": "https://localhost:8080/"
    },
    "id": "3J2zuyutMzrg",
    "outputId": "08f9181d-177e-452c-f50c-a62a3725ec29"
   },
   "outputs": [
    {
     "name": "stdout",
     "output_type": "stream",
     "text": [
      "     [,1] [,2] [,3] [,4]\n",
      "[1,]    1    6   11   16\n",
      "[2,]    2    7   12   17\n",
      "[3,]    3    8   13   18\n",
      "[4,]    4    9   14   19\n",
      "[5,]    5   10   15   20\n"
     ]
    }
   ],
   "source": [
    "a<-matrix(1:20, nrow=5,ncol=4)\n",
    "print(a)"
   ]
  },
  {
   "cell_type": "markdown",
   "metadata": {
    "id": "ur15ZbRMWIiy"
   },
   "source": [
    "Se puede observar que el orden de los datos es de arriba hacia abajo y de izquierda hacia derecha con prioridad vertical.\n",
    "\n",
    "Tambien podemos usar otras 2 funciones llamadas `cbind()` y `rbind()` las cuales unen varios vectores en una sola matriz, se diferencian en la forma de unirse, el primero, organiza los vectores como columna y el segundo como filas."
   ]
  },
  {
   "cell_type": "code",
   "execution_count": 21,
   "metadata": {
    "id": "kOornsvyPPwy"
   },
   "outputs": [],
   "source": [
    "#Definimos los vectores\n",
    "vector1<-1:4\n",
    "vector2<-5:8\n",
    "vector3<-9:12"
   ]
  },
  {
   "cell_type": "code",
   "execution_count": 22,
   "metadata": {
    "colab": {
     "base_uri": "https://localhost:8080/"
    },
    "id": "BYkDfMkAbqr4",
    "outputId": "88666052-4a8f-4ca4-af46-15b410f7dea3"
   },
   "outputs": [
    {
     "name": "stdout",
     "output_type": "stream",
     "text": [
      "     vector1 vector2 vector3\n",
      "[1,]       1       5       9\n",
      "[2,]       2       6      10\n",
      "[3,]       3       7      11\n",
      "[4,]       4       8      12\n"
     ]
    }
   ],
   "source": [
    "a<-cbind(vector1,vector2,vector3)\n",
    "print(a)"
   ]
  },
  {
   "cell_type": "code",
   "execution_count": 23,
   "metadata": {
    "colab": {
     "base_uri": "https://localhost:8080/"
    },
    "id": "NdsbDjs0cWiJ",
    "outputId": "e91e6fee-2d2b-4ee9-ecc0-0dad6624db1f"
   },
   "outputs": [
    {
     "name": "stdout",
     "output_type": "stream",
     "text": [
      "        [,1] [,2] [,3] [,4]\n",
      "vector1    1    2    3    4\n",
      "vector2    5    6    7    8\n",
      "vector3    9   10   11   12\n"
     ]
    }
   ],
   "source": [
    "b<-rbind(vector1,vector2,vector3)\n",
    "print(b)"
   ]
  },
  {
   "cell_type": "markdown",
   "metadata": {
    "id": "9uqDEwqggWX9"
   },
   "source": [
    "Ademas existen diversas operaciones aplicables como la multiplicacion por un escalar o la transpuesta de una matriz.\n",
    "\n",
    "Primero veremos como multiplicar por un escalar para ello usaremos la matriz asignada a la variable b.\n",
    "\n",
    "A continuacion un ejemplo."
   ]
  },
  {
   "cell_type": "code",
   "execution_count": 24,
   "metadata": {
    "colab": {
     "base_uri": "https://localhost:8080/"
    },
    "id": "tGW3CUPGcZST",
    "outputId": "81715d79-11dc-43d0-e22a-f57ca463b633"
   },
   "outputs": [
    {
     "name": "stdout",
     "output_type": "stream",
     "text": [
      "        [,1] [,2] [,3] [,4]\n",
      "vector1    2    4    6    8\n",
      "vector2   10   12   14   16\n",
      "vector3   18   20   22   24\n"
     ]
    }
   ],
   "source": [
    "bEs<-b*2\n",
    "print(bEs)"
   ]
  },
  {
   "cell_type": "markdown",
   "metadata": {
    "id": "XASTQpliip3U"
   },
   "source": [
    "Para transponer una matriz necesitaremos la función `t()`:"
   ]
  },
  {
   "cell_type": "code",
   "execution_count": 25,
   "metadata": {
    "colab": {
     "base_uri": "https://localhost:8080/"
    },
    "id": "qP7GIUl-hriM",
    "outputId": "8d3e0ab0-fe09-4ce3-faf8-f0b6afaf3b8e"
   },
   "outputs": [
    {
     "name": "stdout",
     "output_type": "stream",
     "text": [
      "     vector1 vector2 vector3\n",
      "[1,]       2      10      18\n",
      "[2,]       4      12      20\n",
      "[3,]       6      14      22\n",
      "[4,]       8      16      24\n"
     ]
    }
   ],
   "source": [
    "tras<-t(bEs)\n",
    "print(tras)"
   ]
  },
  {
   "cell_type": "markdown",
   "metadata": {
    "id": "eI_4HFYjpd1K"
   },
   "source": [
    "<br></br>\n",
    "\n",
    "<h1>Objetos</h1>"
   ]
  },
  {
   "cell_type": "markdown",
   "metadata": {
    "id": "6Xy-kyMFpiHs"
   },
   "source": [
    "En R existen varios tipos de objectos que permiten que el usuario pueda almacenar la información para realizar procedimientos estadísticos y gráficos. Los principales objetos en R son vectores, matrices, arreglos, marcos de datos y listas"
   ]
  },
  {
   "cell_type": "markdown",
   "metadata": {
    "id": "bW9B_Y9FpyrU"
   },
   "source": [
    "<h3>Vectores</h3>"
   ]
  },
  {
   "cell_type": "markdown",
   "metadata": {
    "id": "ANU2X9N4psVn"
   },
   "source": [
    "Los vectores entran en la definicion de objeto de R ya que es una estructura en la cual se pueden guardar datos y hacer operaciones con estos."
   ]
  },
  {
   "cell_type": "code",
   "execution_count": 26,
   "metadata": {
    "colab": {
     "base_uri": "https://localhost:8080/"
    },
    "id": "k5yrCw30nugi",
    "outputId": "07514f75-07db-4ab8-d803-90dd27dfe20d"
   },
   "outputs": [
    {
     "name": "stdout",
     "output_type": "stream",
     "text": [
      "[1] 20 22 24 12 NA 17\n",
      "[1]  TRUE FALSE FALSE  TRUE    NA  TRUE\n"
     ]
    }
   ],
   "source": [
    "edad<-c(20,22,24,12,NA,17)\n",
    "print(edad)\n",
    "mayor<-c(TRUE,FALSE,FALSE,TRUE,NA,TRUE)\n",
    "print(mayor)"
   ]
  },
  {
   "cell_type": "markdown",
   "metadata": {
    "id": "0CzGHNIOpyfE"
   },
   "source": [
    "<h3>Matrices</h3>"
   ]
  },
  {
   "cell_type": "markdown",
   "metadata": {
    "id": "iwOR1RpMp80Q"
   },
   "source": [
    "Las matrices al igual que los vectores son objetos 2-dimensionales para recolectar datos"
   ]
  },
  {
   "cell_type": "code",
   "execution_count": 27,
   "metadata": {
    "colab": {
     "base_uri": "https://localhost:8080/"
    },
    "id": "Fpk7MktDqLQy",
    "outputId": "9831b8bf-e17f-40f2-ffe4-0d0c4637987b"
   },
   "outputs": [
    {
     "name": "stdout",
     "output_type": "stream",
     "text": [
      "     edad mayor\n",
      "[1,]   20     1\n",
      "[2,]   22     0\n",
      "[3,]   24     0\n",
      "[4,]   12     1\n",
      "[5,]   NA    NA\n",
      "[6,]   17     1\n"
     ]
    }
   ],
   "source": [
    "ma<-cbind(edad,mayor)\n",
    "print(ma)"
   ]
  },
  {
   "cell_type": "markdown",
   "metadata": {
    "id": "Gini2R8DpyNu"
   },
   "source": [
    "<h3>Arreglos</h3>"
   ]
  },
  {
   "cell_type": "markdown",
   "metadata": {
    "id": "oOyU9YAMnAt7"
   },
   "source": [
    "Un arreglo es una matriz de n-dimensiones que se define con la funcion `array()` que recibe los parametros de los datos y las dimensiones en las que se ordenan estos."
   ]
  },
  {
   "cell_type": "code",
   "execution_count": 28,
   "metadata": {
    "colab": {
     "base_uri": "https://localhost:8080/"
    },
    "id": "wV8v0PFwq-F5",
    "outputId": "0f823446-0cc1-4a29-e1b1-cfe9e249d6e8"
   },
   "outputs": [
    {
     "name": "stdout",
     "output_type": "stream",
     "text": [
      ", , 1\n",
      "\n",
      "     [,1] [,2] [,3] [,4]\n",
      "[1,]    1    4    7   10\n",
      "[2,]    2    5    8   11\n",
      "[3,]    3    6    9   12\n",
      "\n",
      ", , 2\n",
      "\n",
      "     [,1] [,2] [,3] [,4]\n",
      "[1,]   13   16   19   22\n",
      "[2,]   14   17   20   23\n",
      "[3,]   15   18   21   24\n",
      "\n"
     ]
    }
   ],
   "source": [
    "#Definimos el array\n",
    "ar<-array(data=1:24,dim=c(3,4,2))\n",
    "print(ar)"
   ]
  },
  {
   "cell_type": "markdown",
   "metadata": {
    "id": "mvBbWPZCrZpE"
   },
   "source": [
    "Para acceder a algun valor de este array solo debemos tener en cuenta el orden de acceso, primero fila, luego columna y por ultimo el bloque"
   ]
  },
  {
   "cell_type": "code",
   "execution_count": 29,
   "metadata": {
    "colab": {
     "base_uri": "https://localhost:8080/",
     "height": 34
    },
    "id": "ifOEYQHxr6MP",
    "outputId": "c8e4b1bd-e534-4d15-a93b-b249b180b923"
   },
   "outputs": [
    {
     "data": {
      "text/html": [
       "8"
      ],
      "text/latex": [
       "8"
      ],
      "text/markdown": [
       "8"
      ],
      "text/plain": [
       "[1] 8"
      ]
     },
     "metadata": {},
     "output_type": "display_data"
    }
   ],
   "source": [
    "ar[2,3,1]"
   ]
  },
  {
   "cell_type": "markdown",
   "metadata": {
    "id": "-ctBY7G2px7g"
   },
   "source": [
    "<h3>Marcos de datos</h3>"
   ]
  },
  {
   "cell_type": "markdown",
   "metadata": {
    "id": "pI3yCx3snBID"
   },
   "source": [
    "Marco de datos o data frame es el mas usado ya que permite almacenar o agrupar vectores con informacion de diferente tipo. La funcion para crearlo es `data.frame()` a la cual se le agregan los vectores."
   ]
  },
  {
   "cell_type": "code",
   "execution_count": 30,
   "metadata": {
    "colab": {
     "base_uri": "https://localhost:8080/"
    },
    "id": "SbAXBifKsjMt",
    "outputId": "2a717fc8-ba2e-4676-95e2-b6d1d7571f9b"
   },
   "outputs": [
    {
     "name": "stdout",
     "output_type": "stream",
     "text": [
      "  num letras logica\n",
      "1  13      A   TRUE\n",
      "2  25      B  FALSE\n",
      "3  16      C   TRUE\n",
      "4  17      D  FALSE\n",
      "5  18      E   TRUE\n"
     ]
    }
   ],
   "source": [
    "num<-c(13,25,16,17,18)\n",
    "letras<-c(\"A\",\"B\",\"C\",\"D\",\"E\")\n",
    "logica<-c(TRUE,FALSE,TRUE,FALSE,TRUE)\n",
    "\n",
    "marco<-data.frame(num,letras,logica)\n",
    "print(marco)"
   ]
  },
  {
   "cell_type": "markdown",
   "metadata": {
    "id": "2Y-ircPFtSS6"
   },
   "source": [
    "Ahora bien solo requerimos la columna letras de nuestro data frame, para ello realizamos lo siguiente:"
   ]
  },
  {
   "cell_type": "code",
   "execution_count": 31,
   "metadata": {
    "colab": {
     "base_uri": "https://localhost:8080/",
     "height": 164
    },
    "id": "8gPbCD8ktRsj",
    "outputId": "fca19284-4a3b-468f-d074-13d51369f71d"
   },
   "outputs": [
    {
     "name": "stdout",
     "output_type": "stream",
     "text": [
      "  letras\n",
      "1      A\n",
      "2      B\n",
      "3      C\n",
      "4      D\n",
      "5      E\n"
     ]
    },
    {
     "data": {
      "text/html": [
       "<style>\n",
       ".list-inline {list-style: none; margin:0; padding: 0}\n",
       ".list-inline>li {display: inline-block}\n",
       ".list-inline>li:not(:last-child)::after {content: \"\\00b7\"; padding: 0 .5ex}\n",
       "</style>\n",
       "<ol class=list-inline><li>'A'</li><li>'B'</li><li>'C'</li><li>'D'</li><li>'E'</li></ol>\n"
      ],
      "text/latex": [
       "\\begin{enumerate*}\n",
       "\\item 'A'\n",
       "\\item 'B'\n",
       "\\item 'C'\n",
       "\\item 'D'\n",
       "\\item 'E'\n",
       "\\end{enumerate*}\n"
      ],
      "text/markdown": [
       "1. 'A'\n",
       "2. 'B'\n",
       "3. 'C'\n",
       "4. 'D'\n",
       "5. 'E'\n",
       "\n",
       "\n"
      ],
      "text/plain": [
       "[1] \"A\" \"B\" \"C\" \"D\" \"E\""
      ]
     },
     "metadata": {},
     "output_type": "display_data"
    },
    {
     "data": {
      "text/html": [
       "<style>\n",
       ".list-inline {list-style: none; margin:0; padding: 0}\n",
       ".list-inline>li {display: inline-block}\n",
       ".list-inline>li:not(:last-child)::after {content: \"\\00b7\"; padding: 0 .5ex}\n",
       "</style>\n",
       "<ol class=list-inline><li>'A'</li><li>'B'</li><li>'C'</li><li>'D'</li><li>'E'</li></ol>\n"
      ],
      "text/latex": [
       "\\begin{enumerate*}\n",
       "\\item 'A'\n",
       "\\item 'B'\n",
       "\\item 'C'\n",
       "\\item 'D'\n",
       "\\item 'E'\n",
       "\\end{enumerate*}\n"
      ],
      "text/markdown": [
       "1. 'A'\n",
       "2. 'B'\n",
       "3. 'C'\n",
       "4. 'D'\n",
       "5. 'E'\n",
       "\n",
       "\n"
      ],
      "text/plain": [
       "[1] \"A\" \"B\" \"C\" \"D\" \"E\""
      ]
     },
     "metadata": {},
     "output_type": "display_data"
    }
   ],
   "source": [
    "print(marco[\"letras\"])\n",
    "marco[[\"letras\"]]\n",
    "marco$letras"
   ]
  },
  {
   "cell_type": "markdown",
   "metadata": {
    "id": "qkO4VWGAtr62"
   },
   "source": [
    "Como podemos ver las 3 opciones son validas pero la primera nos la muestra estructurada como marco y las otras nos la muestran en forma de vector."
   ]
  },
  {
   "cell_type": "markdown",
   "metadata": {
    "id": "m4cBntkLpxXR"
   },
   "source": [
    "<h3>Listas</h3>"
   ]
  },
  {
   "cell_type": "markdown",
   "metadata": {
    "id": "-iQaP8ZmnBrz"
   },
   "source": [
    "Son conjunto de datos que puede contener otros tipos de objetos como los mencionados anteriormente para ello se usa la funcion `list()` el cual recibe como parametros los objetos separados por comas."
   ]
  },
  {
   "cell_type": "code",
   "execution_count": 32,
   "metadata": {
    "colab": {
     "base_uri": "https://localhost:8080/"
    },
    "id": "Zk4oHUu6jMmh",
    "outputId": "198e1ffd-838a-4f02-d5b8-3d25013336dd"
   },
   "outputs": [
    {
     "name": "stdout",
     "output_type": "stream",
     "text": [
      "[[1]]\n",
      "[1] \"Perro\"  \"Gato\"   \"Conejo\"\n",
      "\n",
      "[[2]]\n",
      "     [,1] [,2] [,3]\n",
      "[1,]    1    5    9\n",
      "[2,]    2    6   10\n",
      "[3,]    3    7   11\n",
      "[4,]    4    8   12\n",
      "\n",
      "[[3]]\n",
      "  num letras logica\n",
      "1  13      A   TRUE\n",
      "2  25      B  FALSE\n",
      "3  16      C   TRUE\n",
      "4  17      D  FALSE\n",
      "5  18      E   TRUE\n",
      "\n"
     ]
    }
   ],
   "source": [
    "a<-c(\"Perro\",\"Gato\",\"Conejo\")\n",
    "b<-matrix(1:12,ncol = 3,nrow=4)\n",
    "c<-marco\n",
    "lista<-list(a,b,c)\n",
    "print(lista)"
   ]
  },
  {
   "cell_type": "markdown",
   "metadata": {
    "id": "leqwQjPS1WMB"
   },
   "source": [
    "<h2>Distribuciones de Probabilidad</h2>\n",
    "\n",
    "Muchas veces cuando estamos haciendo calculos estadisticos necesitamos valores de probabilidades de tabla de distribuciones como la Binomial, Normal, Exponencial, Poisson, etc\n",
    "\n",
    "R nos brinda la posibilidad de obtener dichos valores con el paquete *stats* que implementa numerosas funciones para realizar los calculos asociados"
   ]
  },
  {
   "cell_type": "markdown",
   "metadata": {
    "id": "8ldE9o644xNK"
   },
   "source": [
    "<h3>Distribución binomial</h3>\n",
    "\n",
    "La distribución binomial o distribución binómica es una distribución discreta que cuenta el número de éxitos en una secuencia de n ensayos de Bernoulli independientes entre sí, con una probabilidad fija p de ocurrencia del éxito entre los ensayos.\n",
    "\n"
   ]
  },
  {
   "cell_type": "code",
   "execution_count": 33,
   "metadata": {
    "colab": {
     "base_uri": "https://localhost:8080/",
     "height": 85
    },
    "id": "w2it66aW_IqO",
    "outputId": "8150eeb9-be0d-4a83-c9da-5eadcfdf1ae0"
   },
   "outputs": [
    {
     "data": {
      "text/html": [
       "0.136038673076003"
      ],
      "text/latex": [
       "0.136038673076003"
      ],
      "text/markdown": [
       "0.136038673076003"
      ],
      "text/plain": [
       "[1] 0.1360387"
      ]
     },
     "metadata": {},
     "output_type": "display_data"
    },
    {
     "data": {
      "text/html": [
       "0.0212398761099606"
      ],
      "text/latex": [
       "0.0212398761099606"
      ],
      "text/markdown": [
       "0.0212398761099606"
      ],
      "text/plain": [
       "[1] 0.02123988"
      ]
     },
     "metadata": {},
     "output_type": "display_data"
    },
    {
     "data": {
      "text/html": [
       "0.0212398761099606"
      ],
      "text/latex": [
       "0.0212398761099606"
      ],
      "text/markdown": [
       "0.0212398761099606"
      ],
      "text/plain": [
       "[1] 0.02123988"
      ]
     },
     "metadata": {},
     "output_type": "display_data"
    },
    {
     "data": {
      "text/html": [
       "0.0212398761099607"
      ],
      "text/latex": [
       "0.0212398761099607"
      ],
      "text/markdown": [
       "0.0212398761099607"
      ],
      "text/plain": [
       "[1] 0.02123988"
      ]
     },
     "metadata": {},
     "output_type": "display_data"
    }
   ],
   "source": [
    "##EJEMPLO\n",
    "\n",
    "## Para obtener un valor puntual como P(X = 17)\n",
    "## teniendo 50 ensayos con probabilidad de 0.3  \n",
    "## utilizamos el codigo:\n",
    "\n",
    "dbinom(17,30,0.6)\n",
    "\n",
    "## o P(X ≤ 12):\n",
    "\n",
    "pbinom(12,30,0.6)\n",
    "\n",
    "sum(dbinom(0:12,30,0.6))\n",
    "\n",
    "1 - sum(dbinom(13:30,30,0.6))\n",
    "\n"
   ]
  },
  {
   "cell_type": "code",
   "execution_count": 34,
   "metadata": {
    "colab": {
     "base_uri": "https://localhost:8080/",
     "height": 437
    },
    "id": "5P7h7CSl5esY",
    "outputId": "ce8b3d50-976c-461d-d448-66537d7e90e2"
   },
   "outputs": [
    {
     "data": {
      "image/png": "[encoded data removed]",
      "text/plain": [
       "Plot with title \"Función Binomial\""
      ]
     },
     "metadata": {
      "image/png": {
       "height": 420,
       "width": 420
      }
     },
     "output_type": "display_data"
    }
   ],
   "source": [
    "## Podemos visualizar la función entera con el plot...\n",
    "\n",
    "plot(dbinom(0:30,30,0.6),type=\"h\",xlab=\"K\",ylab=\"Pr(X=k)\",main=\"Función Binomial\")\n"
   ]
  },
  {
   "cell_type": "markdown",
   "metadata": {
    "id": "MI0IkhIF8K7I"
   },
   "source": [
    "<h3>Distribución normal</h3>\n",
    "\n",
    "La distribución normal tambien conocida distribucipon de Gauss o Laplace-Gauss, es una distribucion de probabilidad de variable continua y aquella que aparece en estadística y en la teoría de probabilidades con mayor frecuecia.\n",
    "\n"
   ]
  },
  {
   "cell_type": "code",
   "execution_count": 35,
   "metadata": {
    "colab": {
     "base_uri": "https://localhost:8080/",
     "height": 488
    },
    "id": "_n67b2oqDi1Z",
    "outputId": "76f222ce-06cf-4ae2-d043-74b6c7374246"
   },
   "outputs": [
    {
     "data": {
      "text/html": [
       "0.804317030846224"
      ],
      "text/latex": [
       "0.804317030846224"
      ],
      "text/markdown": [
       "0.804317030846224"
      ],
      "text/plain": [
       "[1] 0.804317"
      ]
     },
     "metadata": {},
     "output_type": "display_data"
    },
    {
     "data": {
      "text/html": [
       "0.993790334674224"
      ],
      "text/latex": [
       "0.993790334674224"
      ],
      "text/markdown": [
       "0.993790334674224"
      ],
      "text/plain": [
       "[1] 0.9937903"
      ]
     },
     "metadata": {},
     "output_type": "display_data"
    },
    {
     "data": {
      "text/html": [
       "0.196473875964497"
      ],
      "text/latex": [
       "0.196473875964497"
      ],
      "text/markdown": [
       "0.196473875964497"
      ],
      "text/plain": [
       "[1] 0.1964739"
      ]
     },
     "metadata": {},
     "output_type": "display_data"
    },
    {
     "data": {
      "image/png": "[encoded data removed]",
      "text/plain": [
       "plot without title"
      ]
     },
     "metadata": {
      "image/png": {
       "height": 420,
       "width": 420
      }
     },
     "output_type": "display_data"
    }
   ],
   "source": [
    "##EJEMPLO\n",
    "\n",
    "## Para obtener un valor puntual como P(X ≤ 180)\n",
    "## teniendo X≈N(150,30)\n",
    "## utilizamos el codigo:\n",
    "\n",
    "pnorm(180,150,35)\n",
    "\n",
    "## para P(X > 168):\n",
    "\n",
    "pnorm(180,150,12)\n",
    "\n",
    "## y P(150 ≤ X ≤ 168)\n",
    "\n",
    "pnorm(168,150,35)-pnorm(150,150,35)\n",
    "\n",
    "##podemos graficar el ejemplo anterior por medio de:\n",
    "\n",
    "regionX=seq(150,168,0.01)            # Intervalo a sombrear\n",
    "xP <- c(150,regionX,168)             # Base de los polígonos que crean el efecto \"sombra\"\n",
    "yP <- c(0,dnorm(regionX,150,35),0)   # Altura de los polígonos sombreados\n",
    "curve(dnorm(x,150,35),xlim=c(50,250),yaxs=\"i\",ylim=c(0,0.012),ylab=\"P(x)\") \n",
    "polygon(xP,yP,col=\"orange1\")\n",
    "box()"
   ]
  },
  {
   "cell_type": "code",
   "execution_count": 36,
   "metadata": {
    "colab": {
     "base_uri": "https://localhost:8080/",
     "height": 437
    },
    "id": "GqE4kXuSBhEj",
    "outputId": "c6e48f31-9f11-4a9b-bf65-d4bc53c5675c"
   },
   "outputs": [
    {
     "data": {
      "image/png": "[encoded data removed]",
      "text/plain": [
       "Plot with title \"Función de Densidad N(150,35)\""
      ]
     },
     "metadata": {
      "image/png": {
       "height": 420,
       "width": 420
      }
     },
     "output_type": "display_data"
    }
   ],
   "source": [
    "## Podemos visualizar la función de densidad de la distribución\n",
    "\n",
    "curve(dnorm(x,150,35),xlim=c(50,250),col=\"red\",lwd=2,\n",
    "      xlab=\"x\",ylab=\"f(x)\",main=\"Función de Densidad N(150,35)\")\n"
   ]
  },
  {
   "cell_type": "markdown",
   "metadata": {
    "id": "qfQUPINDONZ9"
   },
   "source": [
    "<h3>Distribución exponencial</h3>\n",
    "\n",
    "La distribución exponencial es un caso especial de la distribución gamma con k = 1. Además la suma de variables aleatorias que siguen una misma distribución exponencial es una variable aleatoria expresable en términos de la distribución gamma."
   ]
  },
  {
   "cell_type": "code",
   "execution_count": 37,
   "metadata": {
    "colab": {
     "base_uri": "https://localhost:8080/",
     "height": 471
    },
    "id": "RU3r7HgoOhJ-",
    "outputId": "0296e2dd-6f92-4a38-f466-bdfb537a079e"
   },
   "outputs": [
    {
     "data": {
      "text/html": [
       "0.22313016014843"
      ],
      "text/latex": [
       "0.22313016014843"
      ],
      "text/markdown": [
       "0.22313016014843"
      ],
      "text/plain": [
       "[1] 0.2231302"
      ]
     },
     "metadata": {},
     "output_type": "display_data"
    },
    {
     "data": {
      "text/html": [
       "0.606530659712633"
      ],
      "text/latex": [
       "0.606530659712633"
      ],
      "text/markdown": [
       "0.606530659712633"
      ],
      "text/plain": [
       "[1] 0.6065307"
      ]
     },
     "metadata": {},
     "output_type": "display_data"
    },
    {
     "data": {
      "image/png": "[encoded data removed]",
      "text/plain": [
       "plot without title"
      ]
     },
     "metadata": {
      "image/png": {
       "height": 420,
       "width": 420
      }
     },
     "output_type": "display_data"
    }
   ],
   "source": [
    "##EJEMPLO\n",
    "\n",
    "## Para P(X > 15) = e^(−3/2)\n",
    "\n",
    "pexp(15,rate=1/10, lower.tail = FALSE)\n",
    "\n",
    "## para P(X > 15 | X > 10) = P(X > 5)\n",
    "\n",
    "pexp(5,rate=1/10,lower.tail = FALSE)\n",
    "\n",
    "\n",
    "##podemos graficar el ejemplo anterior por medio de:\n",
    "x <- seq(0, 8, 0.1)\n",
    "\n",
    "plot(x, dexp(x, 1),type=\"l\", col = \"red\", lty = 1)\n"
   ]
  },
  {
   "cell_type": "markdown",
   "metadata": {
    "id": "8VZ9tUO2XAA4"
   },
   "source": [
    "<H2>Visualización de datos</H2>\n",
    "\n",
    "<H3>Dataframes</H3>\n",
    "\n",
    "En el siguiente dataframe visualizaremos los datos de las Pruebas Pro como ejemplo puntualizando en los datos de Razonamiento Cuantitativo y Lectura Crítica"
   ]
  },
  {
   "cell_type": "code",
   "execution_count": 38,
   "metadata": {
    "id": "RZU4w1FHiS8y"
   },
   "outputs": [],
   "source": [
    "Datos<-get(load(\"saberpro.RData\")) "
   ]
  },
  {
   "cell_type": "code",
   "execution_count": 39,
   "metadata": {},
   "outputs": [],
   "source": [
    "R<-data.frame(  RC=Datos$raz_cuant_punt,\n",
    "                LC=Datos$lect_crit_punt)"
   ]
  },
  {
   "cell_type": "code",
   "execution_count": 40,
   "metadata": {},
   "outputs": [
    {
     "data": {
      "text/html": [
       "<table>\n",
       "<caption>A data.frame: 7 × 1</caption>\n",
       "<thead>\n",
       "\t<tr><th></th><th scope=col>pop</th></tr>\n",
       "\t<tr><th></th><th scope=col>&lt;dbl&gt;</th></tr>\n",
       "</thead>\n",
       "<tbody>\n",
       "\t<tr><th scope=row>Tamaño</th><td>725295.0</td></tr>\n",
       "\t<tr><th scope=row>Media</th><td>   149.5</td></tr>\n",
       "\t<tr><th scope=row>Desviación Estándar</th><td>    30.7</td></tr>\n",
       "\t<tr><th scope=row>Varianza</th><td>   942.0</td></tr>\n",
       "\t<tr><th scope=row>simetría</th><td>     0.2</td></tr>\n",
       "\t<tr><th scope=row>kurtosis</th><td>     0.1</td></tr>\n",
       "\t<tr><th scope=row>maximo</th><td>   300.0</td></tr>\n",
       "</tbody>\n",
       "</table>\n"
      ],
      "text/latex": [
       "A data.frame: 7 × 1\n",
       "\\begin{tabular}{r|l}\n",
       "  & pop\\\\\n",
       "  & <dbl>\\\\\n",
       "\\hline\n",
       "\tTamaño & 725295.0\\\\\n",
       "\tMedia &    149.5\\\\\n",
       "\tDesviación Estándar &     30.7\\\\\n",
       "\tVarianza &    942.0\\\\\n",
       "\tsimetría &      0.2\\\\\n",
       "\tkurtosis &      0.1\\\\\n",
       "\tmaximo &    300.0\\\\\n",
       "\\end{tabular}\n"
      ],
      "text/markdown": [
       "\n",
       "A data.frame: 7 × 1\n",
       "\n",
       "| <!--/--> | pop &lt;dbl&gt; |\n",
       "|---|---|\n",
       "| Tamaño | 725295.0 |\n",
       "| Media |    149.5 |\n",
       "| Desviación Estándar |     30.7 |\n",
       "| Varianza |    942.0 |\n",
       "| simetría |      0.2 |\n",
       "| kurtosis |      0.1 |\n",
       "| maximo |    300.0 |\n",
       "\n"
      ],
      "text/plain": [
       "                    pop     \n",
       "Tamaño              725295.0\n",
       "Media                  149.5\n",
       "Desviación Estándar     30.7\n",
       "Varianza               942.0\n",
       "simetría                 0.2\n",
       "kurtosis                 0.1\n",
       "maximo                 300.0"
      ]
     },
     "metadata": {},
     "output_type": "display_data"
    },
    {
     "data": {
      "text/html": [
       "<table>\n",
       "<caption>A data.frame: 7 × 1</caption>\n",
       "<thead>\n",
       "\t<tr><th></th><th scope=col>pop</th></tr>\n",
       "\t<tr><th></th><th scope=col>&lt;dbl&gt;</th></tr>\n",
       "</thead>\n",
       "<tbody>\n",
       "\t<tr><th scope=row>Tamaño</th><td>725295.0</td></tr>\n",
       "\t<tr><th scope=row>Media</th><td>   150.1</td></tr>\n",
       "\t<tr><th scope=row>Desviación Estándar</th><td>    31.0</td></tr>\n",
       "\t<tr><th scope=row>Varianza</th><td>   960.3</td></tr>\n",
       "\t<tr><th scope=row>simetría</th><td>     0.0</td></tr>\n",
       "\t<tr><th scope=row>kurtosis</th><td>    -0.3</td></tr>\n",
       "\t<tr><th scope=row>maximo</th><td>   300.0</td></tr>\n",
       "</tbody>\n",
       "</table>\n"
      ],
      "text/latex": [
       "A data.frame: 7 × 1\n",
       "\\begin{tabular}{r|l}\n",
       "  & pop\\\\\n",
       "  & <dbl>\\\\\n",
       "\\hline\n",
       "\tTamaño & 725295.0\\\\\n",
       "\tMedia &    150.1\\\\\n",
       "\tDesviación Estándar &     31.0\\\\\n",
       "\tVarianza &    960.3\\\\\n",
       "\tsimetría &      0.0\\\\\n",
       "\tkurtosis &     -0.3\\\\\n",
       "\tmaximo &    300.0\\\\\n",
       "\\end{tabular}\n"
      ],
      "text/markdown": [
       "\n",
       "A data.frame: 7 × 1\n",
       "\n",
       "| <!--/--> | pop &lt;dbl&gt; |\n",
       "|---|---|\n",
       "| Tamaño | 725295.0 |\n",
       "| Media |    150.1 |\n",
       "| Desviación Estándar |     31.0 |\n",
       "| Varianza |    960.3 |\n",
       "| simetría |      0.0 |\n",
       "| kurtosis |     -0.3 |\n",
       "| maximo |    300.0 |\n",
       "\n"
      ],
      "text/plain": [
       "                    pop     \n",
       "Tamaño              725295.0\n",
       "Media                  150.1\n",
       "Desviación Estándar     31.0\n",
       "Varianza               960.3\n",
       "simetría                 0.0\n",
       "kurtosis                -0.3\n",
       "maximo                 300.0"
      ]
     },
     "metadata": {},
     "output_type": "display_data"
    }
   ],
   "source": [
    "#Visualizaremos algunos datos de interes con la función\n",
    "mystats <- function(x, na.omit=FALSE){\n",
    "  if (na.omit)\n",
    "  x <- x[!is.na(x)]\n",
    "  m <- mean(x) #Promedio\n",
    "  n <- length(x) #Tamaño\n",
    "  s <- sd(x) #Desviación Estandar\n",
    "  v <-var(x) #Varianza\n",
    "  mx <- max(x) #maximo\n",
    "  skew <- sum((x-m)^3/s^3)/n\n",
    "  kurt <- sum((x-m)^4/s^4)/n - 3\n",
    "  return(c(\"Tamaño\"=n, \"Media\"=m, \"Desviación Estándar\"=s, \n",
    "           \"Varianza\"=v, \"simetría\"=skew, \"kurtosis\"=kurt, \"maximo\"=mx))\n",
    "}\n",
    "\n",
    "pop<-round(mystats(R[,'RC']),1)\n",
    "data.frame(pop)\n",
    "pop<-round(mystats(R[,'LC']),1)\n",
    "data.frame(pop)"
   ]
  },
  {
   "cell_type": "code",
   "execution_count": 41,
   "metadata": {},
   "outputs": [],
   "source": [
    "# A continuación sacaremos un muestra de 1600\n",
    "# teniendo en cuenta que nuestro dataset cuenta con \n",
    "# 7 millones de datos lo cual aumentará radicalmente \n",
    "# el costo comptacional del calculo\n",
    "\n",
    "N<-1600\n",
    "Rf<- sample(1:nrow(R), #Utilizando Sample obtendremos nuestra muestra\n",
    "            #la cual guardaremos en la variable Rf del data.frame R\n",
    "            size=N, #Tamaño de a muestra\n",
    "            replace=FALSE)"
   ]
  },
  {
   "cell_type": "code",
   "execution_count": 42,
   "metadata": {},
   "outputs": [
    {
     "data": {
      "image/png": "[encoded data removed]",
      "text/plain": [
       "Plot with title \"Razonamiento Cuantitativo\""
      ]
     },
     "metadata": {
      "image/png": {
       "height": 420,
       "width": 420
      }
     },
     "output_type": "display_data"
    },
    {
     "data": {
      "image/png": "[encoded data removed]",
      "text/plain": [
       "Plot with title \"Lectura Crítica\""
      ]
     },
     "metadata": {
      "image/png": {
       "height": 420,
       "width": 420
      }
     },
     "output_type": "display_data"
    }
   ],
   "source": [
    "#Visualizaremos a continuación los valores de cada una de las variables\n",
    "with(R[Rf,], plot(RC, main = 'Razonamiento Cuantitativo', pch = 20))\n",
    "\n",
    "with(R[Rf,], plot(LC, main = 'Lectura Crítica', pch = 20))"
   ]
  },
  {
   "cell_type": "code",
   "execution_count": 43,
   "metadata": {},
   "outputs": [
    {
     "data": {
      "image/png": "[encoded data removed]",
      "text/plain": [
       "plot without title"
      ]
     },
     "metadata": {
      "image/png": {
       "height": 420,
       "width": 420
      }
     },
     "output_type": "display_data"
    }
   ],
   "source": [
    "# Procederemos a comparar los valores de ambas variables supornerponiendolos\n",
    "# y separandolos por colores 2 representando al color rojo para Razonamiento\n",
    "# cuantitativo 5 al color cyan para lectura crítica\n",
    "plot(R[Rf,]$RC, col=rep(2), xlab=\"\", ylab=\"\",pch = 20)\n",
    "    par(new=TRUE)\n",
    "plot(R[Rf,]$LC, col=rep(5), pch = 20, xlab=\"\", ylab=\"\", axes=FALSE)\n",
    "    abline(a=0, b=0)\n",
    "\n",
    "# De este forma podemos ver por simple inspección como los \n",
    "# valores de la variable Razonamiento Cuantitativo tienden \n",
    "# a ser más bajos que los de Lectura crítica \n"
   ]
  },
  {
   "cell_type": "code",
   "execution_count": 44,
   "metadata": {},
   "outputs": [
    {
     "data": {
      "image/png": "[encoded data removed]",
      "text/plain": [
       "Plot with title \"Razonamiento Cuantitativo\""
      ]
     },
     "metadata": {
      "image/png": {
       "height": 420,
       "width": 420
      }
     },
     "output_type": "display_data"
    },
    {
     "data": {
      "image/png": "[encoded data removed]",
      "text/plain": [
       "Plot with title \"Lectura Crítica\""
      ]
     },
     "metadata": {
      "image/png": {
       "height": 420,
       "width": 420
      }
     },
     "output_type": "display_data"
    },
    {
     "data": {
      "image/png": "[encoded data removed]",
      "text/plain": [
       "plot without title"
      ]
     },
     "metadata": {
      "image/png": {
       "height": 420,
       "width": 420
      }
     },
     "output_type": "display_data"
    }
   ],
   "source": [
    "# Teniendo ya el conocimiento de la distribución normal, utilizaremos \n",
    "# como ejemplo el dataset para visualizar como la distribución puede \n",
    "# describir el comportamiento de la variable utilizando unicamente los\n",
    "# parametros de promedio y desviación estandar\n",
    "\n",
    "mB = mean(R[Rf,]$RC) \n",
    "sB = sd(R[Rf,]$RC)\n",
    "mS = mean(R[Rf,]$LC)\n",
    "sS = sd(R[Rf,]$LC)\n",
    "\n",
    "\n",
    "par(mfrow=c(1,1))\n",
    "\n",
    "# A continuación imprimiremos un histograma con la densidad de la variable \n",
    "# RC y superpondremos la función de distribución binormal para compararlas\n",
    "\n",
    "with(R[Rf,], hist(RC, \n",
    "                  nclass = 50,\n",
    "                  main = 'Razonamiento Cuantitativo',\n",
    "                  freq=FALSE))\n",
    "\n",
    "\n",
    "with(R[Rf,], curve(dnorm(x, mB, sB),\n",
    "                   from = 0, #Limitamos el rango impresión de la función a lo que nos interesa\n",
    "                   to = 300,\n",
    "                   col=\"red\",\n",
    "                   type=\"l\",\n",
    "                   lwd=3,\n",
    "                   add = TRUE)) ##Función Binormal\n",
    "\n",
    "\n",
    "#Repetimos el experimento con la variable LC\n",
    "\n",
    "\n",
    "with(R[Rf,], hist(LC, nclass = 50, main = 'Lectura Crítica', freq=FALSE))\n",
    "with(R[Rf,], curve(dnorm(x, mS, sS), from = 0, to = 300,col=\"cyan\",type=\"l\",lwd=3, add = TRUE)) ##Función Binormal\n",
    "\n",
    "with(R[Rf,], curve(dnorm(x, mB, sB),from = 50, to = 250,col=\"red\",type=\"l\",lwd=3))\n",
    "with(R[Rf,], curve(dnorm(x, mB, sS), from = 100, to = 200,col=\"cyan\",type=\"l\",lwd=3, add = TRUE)) ##Función Binormal"
   ]
  },
  {
   "cell_type": "code",
   "execution_count": 52,
   "metadata": {},
   "outputs": [],
   "source": [
    "# A continuación veremos otro ejemplo con un distribución\n",
    "# exponencial en su forma acumulativa\n",
    "R2 <- read.table(file = \"YMap.csv\",\n",
    "                           sep=';',\n",
    "                           header = TRUE,\n",
    "                           stringsAsFactors = FALSE)\n",
    "\n",
    "#Filtramos los datos por año, tomando solo los de 1987\n",
    "Rf <- R2 %>% filter(year==1987)\n",
    "\n",
    "mx <- max(Rf$lifeExp)"
   ]
  },
  {
   "cell_type": "code",
   "execution_count": 53,
   "metadata": {},
   "outputs": [
    {
     "data": {
      "image/png": "[encoded data removed]",
      "text/plain": [
       "plot without title"
      ]
     },
     "metadata": {
      "image/png": {
       "height": 420,
       "width": 420
      }
     },
     "output_type": "display_data"
    }
   ],
   "source": [
    "\n",
    "#Compararemos el promedio de vida con el PIB per capita\n",
    "\n",
    "with(Rf, plot(gdpPercap, lifeExp/mx, pch = 20))\n",
    "#Podemos ver como sigue una distribución exponencial\n",
    "\n",
    "x <- seq(0, 30000, 10)\n",
    "lines(x-2500, pexp(x, 0.0002), col = \"blue\", lty = 1, lwd = 2)"
   ]
  }
 ],
 "metadata": {
  "colab": {
   "include_colab_link": true,
   "name": "Tutorial en R.ipynb",
   "provenance": []
  },
  "kernelspec": {
   "display_name": "R",
   "language": "R",
   "name": "ir"
  },
  "language_info": {
   "codemirror_mode": "r",
   "file_extension": ".r",
   "mimetype": "text/x-r-source",
   "name": "R",
   "pygments_lexer": "r",
   "version": "4.0.1"
  }
 },
 "nbformat": 4,
 "nbformat_minor": 1
}
